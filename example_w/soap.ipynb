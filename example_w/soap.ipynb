{
 "cells": [
  {
   "cell_type": "code",
   "execution_count": 1,
   "metadata": {},
   "outputs": [
    {
     "name": "stdout",
     "output_type": "stream",
     "text": [
      "[[  2.07826909  15.06330421 109.17890023   0.           0.\n",
      "    0.           0.           0.           0.           0.\n",
      "    0.           2.15371645   8.56656642  15.61014703  62.09051397\n",
      "    0.           0.           0.           0.           0.\n",
      "    0.           0.           0.           0.           0.\n",
      "    0.           0.           0.           0.           0.\n",
      "    0.           0.           0.           2.23190277   8.8775583\n",
      "   35.31114453]]\n",
      "36\n",
      "(1, 36)\n",
      "<class 'numpy.ndarray'>\n"
     ]
    }
   ],
   "source": [
    "from dscribe.descriptors import SOAP\n",
    "\n",
    "species = [\"H\", \"C\", \"O\", \"N\"]\n",
    "# 局所領域のカットオフ（オングストローム単位）。1オングストロームより大きくする必要があります(6.0)\n",
    "r_cut = 6.0\n",
    "# ラジアル基底関数の数(8)\n",
    "n_max = 2\n",
    "# 球面調和関数の最大次数(2)\n",
    "l_max = 0\n",
    "\n",
    "# Setting up the SOAP descriptor\n",
    "soap = SOAP(\n",
    "    species=species,\n",
    "    periodic=False,\n",
    "    r_cut=r_cut,\n",
    "    n_max=n_max,\n",
    "    l_max=l_max,\n",
    ")\n",
    "\n",
    "# Creation\n",
    "from ase.build import molecule\n",
    "\n",
    "# Molecule created as an ASE.Atoms\n",
    "water = molecule(\"H2O\")\n",
    "\n",
    "# Create SOAP output for the system\n",
    "soap_water = soap.create(water, centers=[0])\n",
    "\n",
    "# 出力はthe partial power spectrum vector 𝐩(𝐫)　(部分パワースペクトルベクトル)\n",
    "print(soap_water)\n",
    "print(soap.get_number_of_features())\n",
    "print(soap_water.shape)\n",
    "print(type(soap_water))"
   ]
  },
  {
   "cell_type": "code",
   "execution_count": 2,
   "metadata": {},
   "outputs": [
    {
     "name": "stdout",
     "output_type": "stream",
     "text": [
      "36 6660\n"
     ]
    }
   ],
   "source": [
    "# Create output for multiple system\n",
    "samples = [molecule(\"H2O\"), molecule(\"NO2\"), molecule(\"CO2\")]\n",
    "centers = [[0], [1, 2], [1, 2]]\n",
    "coulomb_matrices = soap.create(samples, centers)            # Serial\n",
    "coulomb_matrices = soap.create(samples, centers, n_jobs=2)  # Parallel\n",
    "\n",
    "# Lets change the SOAP setup and see how the number of features changes\n",
    "small_soap = SOAP(species=species, r_cut=r_cut, n_max=2, l_max=0)\n",
    "big_soap = SOAP(species=species, r_cut=r_cut, n_max=9, l_max=9)\n",
    "n_feat1 = small_soap.get_number_of_features()\n",
    "n_feat2 = big_soap.get_number_of_features()\n",
    "print(n_feat1, n_feat2)"
   ]
  },
  {
   "cell_type": "code",
   "execution_count": null,
   "metadata": {},
   "outputs": [
    {
     "name": "stdout",
     "output_type": "stream",
     "text": [
      "[ True  True  True]\n",
      "[[ 3.16969900e+01 -3.10589148e+02  3.04336844e+03  3.08805278e-31\n",
      "  -3.79711084e-30  4.71194535e-29  6.18507922e-32 -1.51180520e-30\n",
      "   3.81806855e-29]\n",
      " [ 3.16969900e+01 -3.10589148e+02  3.04336844e+03  1.88632783e-31\n",
      "  -2.44485509e-30  3.29051018e-29  6.17456162e-32 -1.37591476e-30\n",
      "   3.24869288e-29]\n",
      " [ 3.16969900e+01 -3.10589148e+02  3.04336844e+03  1.22099999e-31\n",
      "  -1.94613540e-30  3.10760577e-29  1.24765412e-32 -3.15215554e-31\n",
      "   7.99721559e-30]\n",
      " [ 3.16969900e+01 -3.10589148e+02  3.04336844e+03  5.08229381e-32\n",
      "  -7.03758175e-31  1.08181673e-29  5.74942715e-32 -1.53404715e-30\n",
      "   4.09988087e-29]]\n",
      "[2764.4762848 2764.4762848 2764.4762848 2764.4762848]\n"
     ]
    }
   ],
   "source": [
    "# Periodic systems\n",
    "from ase.build import bulk\n",
    "\n",
    "copper = bulk('Cu', 'fcc', a=3.6, cubic=True)\n",
    "print(copper.get_pbc())\n",
    "periodic_soap = SOAP(\n",
    "    species=[29],\n",
    "    r_cut=r_cut,\n",
    "    n_max=n_max,\n",
    "    l_max=n_max,\n",
    "    periodic=True,\n",
    "    sparse=False\n",
    ")\n",
    "\n",
    "soap_copper = periodic_soap.create(copper)\n",
    "print(soap_copper)\n",
    "print(soap_copper.sum(axis=1))"
   ]
  },
  {
   "cell_type": "code",
   "execution_count": 4,
   "metadata": {},
   "outputs": [
    {
     "name": "stdout",
     "output_type": "stream",
     "text": [
      "<COO: shape=(3, 36), dtype=float64, nnz=30, fill_value=0.0>\n",
      "<class 'sparse._coo.core.COO'>\n",
      "[[  2.07826909  15.06330421 109.17890023   0.           0.\n",
      "    0.           0.           0.           0.           0.\n",
      "    0.           2.15371645   8.56656642  15.61014703  62.09051397\n",
      "    0.           0.           0.           0.           0.\n",
      "    0.           0.           0.           0.           0.\n",
      "    0.           0.           0.           0.           0.\n",
      "    0.           0.           0.           2.23190277   8.8775583\n",
      "   35.31114453]\n",
      " [  2.5355939   16.33039202 105.17524271   0.           0.\n",
      "    0.           0.           0.           0.           0.\n",
      "    0.           1.14778552   8.3191549    7.39226718  53.5791875\n",
      "    0.           0.           0.           0.           0.\n",
      "    0.           0.           0.           0.           0.\n",
      "    0.           0.           0.           0.           0.\n",
      "    0.           0.           0.           0.51956727   3.76582605\n",
      "   27.29472506]\n",
      " [  2.5355939   16.33039202 105.17524271   0.           0.\n",
      "    0.           0.           0.           0.           0.\n",
      "    0.           1.14778552   8.3191549    7.39226718  53.5791875\n",
      "    0.           0.           0.           0.           0.\n",
      "    0.           0.           0.           0.           0.\n",
      "    0.           0.           0.           0.           0.\n",
      "    0.           0.           0.           0.51956727   3.76582605\n",
      "   27.29472506]]\n",
      "<class 'numpy.ndarray'>\n"
     ]
    }
   ],
   "source": [
    "# Locations\n",
    "# The locations of specific element combinations can be retrieved like this.\n",
    "hh_loc = soap.get_location((\"H\", \"H\"))\n",
    "ho_loc = soap.get_location((\"H\", \"O\"))\n",
    "\n",
    "# These locations can be directly used to slice the corresponding part from an\n",
    "# SOAP output for e.g. plotting.\n",
    "soap_water[0, hh_loc]\n",
    "soap_water[0, ho_loc]\n",
    "\n",
    "# Sparse output\n",
    "soap = SOAP(\n",
    "    species=species,\n",
    "    r_cut=r_cut,\n",
    "    n_max=n_max,\n",
    "    l_max=l_max,\n",
    "    sparse=True\n",
    ")\n",
    "soap_water = soap.create(water)\n",
    "print(soap_water)\n",
    "print(type(soap_water))\n",
    "\n",
    "soap = SOAP(\n",
    "    species=species,\n",
    "    r_cut=r_cut,\n",
    "    n_max=n_max,\n",
    "    l_max=l_max,\n",
    "    sparse=False\n",
    ")\n",
    "soap_water = soap.create(water)\n",
    "print(soap_water)\n",
    "print(type(soap_water))"
   ]
  },
  {
   "cell_type": "code",
   "execution_count": 5,
   "metadata": {},
   "outputs": [
    {
     "name": "stdout",
     "output_type": "stream",
     "text": [
      "Average SOAP water:  (36,)\n",
      "Average SOAP methanol:  (36,)\n",
      "Average SOAP peroxide:  (36,)\n"
     ]
    }
   ],
   "source": [
    "# Average output\n",
    "average_soap = SOAP(\n",
    "    species=species,\n",
    "    r_cut=r_cut,\n",
    "    n_max=n_max,\n",
    "    l_max=l_max,\n",
    "    average=\"inner\",\n",
    "    sparse=False\n",
    ")\n",
    "\n",
    "soap_water = average_soap.create(water)\n",
    "print(\"Average SOAP water: \", soap_water.shape)\n",
    "\n",
    "methanol = molecule('CH3OH')\n",
    "soap_methanol = average_soap.create(methanol)\n",
    "print(\"Average SOAP methanol: \", soap_methanol.shape)\n",
    "\n",
    "h2o2 = molecule('H2O2')\n",
    "soap_peroxide = average_soap.create(h2o2)\n",
    "print(\"Average SOAP peroxide: \", soap_peroxide.shape)"
   ]
  },
  {
   "cell_type": "code",
   "execution_count": 6,
   "metadata": {},
   "outputs": [
    {
     "name": "stdout",
     "output_type": "stream",
     "text": [
      "Distance matrix: water - methanol - peroxide: \n",
      "[[  0.         170.82575231  75.47146683]\n",
      " [170.82575231   0.         211.49008614]\n",
      " [ 75.47146683 211.49008614   0.        ]]\n"
     ]
    }
   ],
   "source": [
    "# Distance\n",
    "from scipy.spatial.distance import pdist, squareform\n",
    "import numpy as np\n",
    "\n",
    "molecules = np.vstack([soap_water, soap_methanol, soap_peroxide])\n",
    "distance = squareform(pdist(molecules))\n",
    "print(\"Distance matrix: water - methanol - peroxide: \")\n",
    "print(distance)"
   ]
  }
 ],
 "metadata": {
  "kernelspec": {
   "display_name": "base",
   "language": "python",
   "name": "python3"
  },
  "language_info": {
   "codemirror_mode": {
    "name": "ipython",
    "version": 3
   },
   "file_extension": ".py",
   "mimetype": "text/x-python",
   "name": "python",
   "nbconvert_exporter": "python",
   "pygments_lexer": "ipython3",
   "version": "3.10.9"
  }
 },
 "nbformat": 4,
 "nbformat_minor": 2
}
