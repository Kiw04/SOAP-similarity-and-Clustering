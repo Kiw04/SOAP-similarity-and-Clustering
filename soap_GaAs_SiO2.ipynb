{
  "cells": [
    {
      "cell_type": "code",
      "execution_count": 1,
      "metadata": {
        "colab": {
          "base_uri": "https://localhost:8080/"
        },
        "id": "CBw4TRDLMnRM",
        "outputId": "d6a7db26-8105-4dc0-a9d1-f9a3fca562cd"
      },
      "outputs": [],
      "source": [
        "#%pip install ase==3.22.1\n",
        "#%pip install numpy==1.24.4\n",
        "#%pip install dscribe==2.5.0\n",
        "#%pip install scipy"
      ]
    },
    {
      "cell_type": "markdown",
      "metadata": {},
      "source": [
        "# Compare between each substances Euclid Distance and Cosine Similarity\n",
        "# (SiO2 Quartz Sturcture and SiO2 cristobaliter Structure, GaAs wurtzite structure and GaAs Zinc Blend Structure) \n",
        "No SiO2 and GaAs comparison"
      ]
    },
    {
      "cell_type": "code",
      "execution_count": null,
      "metadata": {},
      "outputs": [
        {
          "name": "stdout",
          "output_type": "stream",
          "text": [
            "[array([-2.33346193e-06,  2.30570172e+00,  6.58600447e+00]), array([1.99679692, 1.15284913, 3.29294988]), array([-2.33346193e-06,  2.30570172e+00,  2.46330956e+00]), array([1.99679692, 1.15284913, 5.75636415])]\n"
          ]
        }
      ],
      "source": [
        "# Material stucture import from Material Project\n",
        "# Input Material ptoject API key and structure key to generate position array\n",
        "# Doesn't related to other cell in this ipynb\n",
        "\n",
        "from pymatgen.ext.matproj import MPRester\n",
        "from ase import Atoms\n",
        "api_key = \"4HwV8OwM6Tu8Q6wzS3m4HbT2X8vOtodP\"\n",
        "structure_key = \"mp-8883\"\n",
        "def MatproImport(api_key,structure_key):\n",
        "    # Set Materials Project API key\n",
        "    \n",
        "    # Get the structure for quartz SiO2 (mp-7000)\n",
        "    with MPRester(api_key) as mpr:\n",
        "        structure = mpr.get_structure_by_material_id(structure_key)\n",
        "\n",
        "    #  Extract symbols and positions\n",
        "    symbols = [str(site.specie) for site in structure.sites]\n",
        "    positions = [site.coords for site in structure.sites]\n",
        "\n",
        "    #Convert to ASE Atoms object (optional)\n",
        "    ase_atoms = Atoms(symbols=symbols, positions=positions)\n",
        "\n",
        "    # Print each element and its position\n",
        "    '''\n",
        "    print(\"Element positions (each in a row):\")\n",
        "    for symbol, pos in zip(symbols, positions):\n",
        "        print(f\"{symbol}: {pos}\")\n",
        "    print(positions)\n",
        "    '''\n",
        "    return positions\n",
        " \n",
        "print(MatproImport(api_key,structure_key))"
      ]
    },
    {
      "cell_type": "code",
      "execution_count": 3,
      "metadata": {},
      "outputs": [],
      "source": [
        "#Parameters setting\n",
        "r_cut=5\n",
        "n_max=2\n",
        "l_max=0"
      ]
    },
    {
      "cell_type": "code",
      "execution_count": null,
      "metadata": {
        "colab": {
          "base_uri": "https://localhost:8080/"
        },
        "id": "EwqJpA1RMkmA",
        "outputId": "088b2097-7c51-4955-c3b2-04323054dabd"
      },
      "outputs": [],
      "source": [
        "import numpy as np\n",
        "from dscribe.descriptors import SOAP\n",
        "from ase import Atoms\n",
        "from sklearn.metrics.pairwise import cosine_similarity\n",
        "from scipy.spatial.distance import euclidean\n",
        "\n",
        "# Define the chemical species across all molecules\n",
        "species = [\"Si\", \"O\", \"Ga\", \"As\"]\n",
        "\n",
        "# Create SOAP descriptor with averaging mode\n",
        "soap = SOAP(\n",
        "    species=species,\n",
        "    periodic=True,\n",
        "    r_cut=r_cut,\n",
        "    n_max=n_max,\n",
        "    l_max=l_max,\n",
        "    average=\"inner\"  # Proper average mode\n",
        ")\n",
        "\n",
        "# Create molecular structures for SiO2 Quartz, Fused Silica, SiO2 Oxide Layer, GaAs Zinc Blend, and GaAs Wurtzite\n",
        "\n",
        "# SiO2: Quartz (Hexagonal Structure)\n",
        "si_o2_quartz = Atoms(\n",
        "    symbols=[\"Si\", \"Si\",\"Si\", \"O\", \"O\", \"O\", \"O\", \"O\", \"O\"],\n",
        "    positions=[[-1.2651302 ,  2.19127028,  1.84711592], [1.2651312 , 2.19127028, 3.69423739], [ 2.5302614e+00, -5.0000000e-09,  0.0000000e+00],[0.94678257, 3.46832126, 4.61779258],[2.53026451, 2.55409757, 2.77067665],[3.47704845, 0.9142193 , 0.92356073],[1.58347982, 0.9142193 , 4.61779258],[-2.11513671e-06,  1.82844299e+00,  2.77067665e+00],[-0.94678606,  3.46832126,  0.92356073]],\n",
        "    cell=[4.92, 4.92, 5.43],  # Lattice parameter (approx)\n",
        "    pbc=True\n",
        ")\n",
        "# SiO2: high (beta) Cristobaliter \n",
        "si_o2_cristobaliter  = Atoms(\n",
        "    symbols=[\"Si\", \"Si\",\"O\", \"O\",\"O\",\"O\"],\n",
        "    positions=[[5.54904951, 5.54904951, 5.54904951],[3.69936634, 3.69936634, 3.69936634],[2.77452476, 2.77452476, 4.62420793],[2.77452476, 4.62420793, 2.77452476],[4.62420793, 4.62420793, 4.62420793],[4.62420793, 2.77452476, 2.77452476]],\n",
        "    cell=[5.276, 5.276, 5.276],  # Lattice parameter (approx)\n",
        "    pbc=True\n",
        ")\n",
        "\n",
        "# GaAs: Zinc Blend structure (manual definition of atoms and positions)\n",
        "ga_as_zinc_blend = Atoms(\n",
        "    symbols=[\"Ga\", \"As\"],\n",
        "    positions=[[0., 0., 0.],[1.173751, 0.82996725, 2.03299675]],\n",
        "    cell=[5.75, 5.75, 5.75],  # Lattice parameter (approx)\n",
        "    pbc=True\n",
        ")\n",
        "\n",
        "# GaAs: Wurtzite structure (manual definition of atoms and positions)\n",
        "ga_as_wurtzite = Atoms(\n",
        "    symbols=[\"Ga\",\"Ga\", \"As\",  \"As\"],\n",
        "    positions=[[-2.33346193e-06,  2.30570172e+00,  6.58600447e+00],[1.99679692, 1.15284913, 3.29294988],[-2.33346193e-06,  2.30570172e+00,  2.46330956e+00],[1.99679692, 1.15284913, 5.75636415]],\n",
        "    cell=[3.99, 3.99, 6.59],  # Lattice parameter (approx)\n",
        "    pbc=True\n",
        ")\n",
        "\n",
        "# Create SOAP descriptors (averaged over atoms)\n",
        "vec_si_o2_quartz = soap.create(si_o2_quartz)\n",
        "vec_si_o2_cristobaliter = soap.create(si_o2_cristobaliter)\n",
        "vec_ga_as_zinc_blend = soap.create(ga_as_zinc_blend)\n",
        "vec_ga_as_wurtzite = soap.create(ga_as_wurtzite)\n",
        "\n"
      ]
    },
    {
      "cell_type": "markdown",
      "metadata": {},
      "source": [
        "# Create average vector for each substance"
      ]
    },
    {
      "cell_type": "code",
      "execution_count": 5,
      "metadata": {
        "colab": {
          "base_uri": "https://localhost:8080/",
          "height": 564
        },
        "id": "Uum8ZjLoPVvz",
        "outputId": "2274aaa8-f863-4897-91b9-726581358950"
      },
      "outputs": [
        {
          "name": "stdout",
          "output_type": "stream",
          "text": [
            "Average SOAP si_o2_quartz (36,)\n",
            "Average SOAP si_o2_cristobaliter (36,)\n",
            "Average SOAP ga_as_wurtzite (36,)\n",
            "Average SOAP ga_as_zinc_blend (36,)\n"
          ]
        }
      ],
      "source": [
        "#local descriptor into a global descriptor is simply by taking the average over all sites\n",
        "average_soap = SOAP(\n",
        "    species=species,\n",
        "    r_cut=r_cut,\n",
        "    n_max=n_max,\n",
        "    l_max=l_max,\n",
        "    average=\"inner\",\n",
        "    sparse=False\n",
        ")\n",
        "#Sio2_quartz\n",
        "average_si_o2_quartz = average_soap.create(si_o2_quartz)\n",
        "print(\"Average SOAP si_o2_quartz\",average_si_o2_quartz.shape)\n",
        "\n",
        "#Sio2_cristobaliter\n",
        "average_si_o2_cristobaliter = average_soap.create(si_o2_cristobaliter)\n",
        "print(\"Average SOAP si_o2_cristobaliter\",average_si_o2_cristobaliter.shape)\n",
        "\n",
        "#GaAs_Wurtzite\n",
        "average_ga_as_wurtzite = average_soap.create(ga_as_wurtzite)\n",
        "print(\"Average SOAP ga_as_wurtzite\",average_ga_as_wurtzite.shape)\n",
        "\n",
        "#GaAs_Zinc_Blend\n",
        "average_ga_as_zinc_blend = average_soap.create(ga_as_zinc_blend)\n",
        "print(\"Average SOAP ga_as_zinc_blend\",average_ga_as_zinc_blend.shape)"
      ]
    },
    {
      "cell_type": "markdown",
      "metadata": {},
      "source": [
        "# Euclid Distance calculation"
      ]
    },
    {
      "cell_type": "code",
      "execution_count": 6,
      "metadata": {},
      "outputs": [
        {
          "name": "stdout",
          "output_type": "stream",
          "text": [
            "Distance matrix between SiO2: \n",
            "[[0.         5.12437079]\n",
            " [5.12437079 0.        ]]\n",
            "Euclid distance between SiO2:  7.24695466967479\n",
            "\n",
            "Distance matrix between GaAs: \n",
            "[[ 0.        14.4982268]\n",
            " [14.4982268  0.       ]]\n",
            "Euclid distance between GaAs:  20.50358896765264\n",
            "\n"
          ]
        }
      ],
      "source": [
        "from scipy.spatial.distance import pdist, squareform\n",
        "import numpy as np\n",
        "\n",
        "molecules_si_o2 = np.vstack([average_si_o2_quartz, average_si_o2_cristobaliter])\n",
        "distance_si_o2 = squareform(pdist(molecules_si_o2))\n",
        "print(\"Distance matrix between SiO2: \")\n",
        "print(distance_si_o2)\n",
        "#Euclid Distance calculate\n",
        "print(\"Euclid distance between SiO2: \",np.linalg.norm(distance_si_o2))\n",
        "print(\"\")\n",
        "\n",
        "molecules_ga_as = np.vstack([average_ga_as_wurtzite, average_ga_as_zinc_blend])\n",
        "distance_ga_as = squareform(pdist(molecules_ga_as))\n",
        "print(\"Distance matrix between GaAs: \")\n",
        "print(distance_ga_as)\n",
        "#Euclid Distance calculate\n",
        "print(\"Euclid distance between GaAs: \",np.linalg.norm(distance_ga_as))\n",
        "print(\"\")\n"
      ]
    },
    {
      "cell_type": "markdown",
      "metadata": {},
      "source": [
        "# Cosine Similarity Calculation"
      ]
    },
    {
      "cell_type": "markdown",
      "metadata": {},
      "source": [
        "The similarity can take values between -1 and +1. Smaller angles between vectors produce larger cosine values, indicating greater cosine similarity. \n",
        "\n",
        "cos(angle)= dot product between vectors /(L2 norm of vector1)* (L2 norm of vector2)\n",
        "\n",
        "For example:\n",
        "- When two vectors have the same orientation, the angle between them is 0, and the cosine similarity is 1.\n",
        "- Perpendicular vectors have a 90-degree angle between them and a cosine similarity of 0.\n",
        "- Opposite vectors have an angle of 180 degrees between them and a cosine similarity of -1.\n",
        "\n",
        "Ref: https://www.learndatasci.com/glossary/cosine-similarity/"
      ]
    },
    {
      "cell_type": "code",
      "execution_count": 12,
      "metadata": {},
      "outputs": [
        {
          "name": "stdout",
          "output_type": "stream",
          "text": [
            "cos_sim_si_o2:  0.99999100536915\n",
            "cos_sim_ga_as:  0.9988064907593264\n"
          ]
        }
      ],
      "source": [
        "import math\n",
        "\n",
        "def cos_sim(p, q):\n",
        "    return np.dot(p, q) / (np.linalg.norm(p) * np.linalg.norm(q))\n",
        "\n",
        "cos_sim_si_o2 =cos_sim(average_si_o2_quartz,average_si_o2_cristobaliter)\n",
        "print(\"cos_sim_si_o2: \",cos_sim_si_o2)\n",
        "\n",
        "cos_sim_ga_as =cos_sim(average_ga_as_wurtzite, average_ga_as_zinc_blend)\n",
        "print(\"cos_sim_ga_as: \",cos_sim_ga_as)\n"
      ]
    }
  ],
  "metadata": {
    "colab": {
      "provenance": []
    },
    "kernelspec": {
      "display_name": "base",
      "language": "python",
      "name": "python3"
    },
    "language_info": {
      "codemirror_mode": {
        "name": "ipython",
        "version": 3
      },
      "file_extension": ".py",
      "mimetype": "text/x-python",
      "name": "python",
      "nbconvert_exporter": "python",
      "pygments_lexer": "ipython3",
      "version": "3.10.9"
    }
  },
  "nbformat": 4,
  "nbformat_minor": 0
}
