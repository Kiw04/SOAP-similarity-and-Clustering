{
 "cells": [
  {
   "cell_type": "code",
   "execution_count": 1,
   "metadata": {},
   "outputs": [],
   "source": [
    "import matplotlib.pyplot as plt\n",
    "\n",
    "rcParams_dict = {\n",
    "    # ---------- figure\n",
    "    'figure.figsize': [8, 6],\n",
    "    'figure.dpi': 120,\n",
    "    'figure.facecolor': 'white',\n",
    "    # ---------- axes\n",
    "    'axes.grid': True,\n",
    "    'axes.linewidth': 1.5,\n",
    "    # ---------- ticks\n",
    "    'xtick.direction': 'in',\n",
    "    'ytick.direction': 'in',\n",
    "    'xtick.major.width': 1.0,\n",
    "    'ytick.major.width': 1.0,\n",
    "    'xtick.major.size': 8.0,\n",
    "    'ytick.major.size': 8.0,\n",
    "    # ---------- lines\n",
    "    'lines.linewidth': 2.5,\n",
    "    'lines.markersize': 12,\n",
    "    # ---------- grid\n",
    "    'grid.linestyle': ':',\n",
    "    # ---------- font\n",
    "    'font.family': 'Times New Roman',\n",
    "    'mathtext.fontset': 'cm',\n",
    "    #'mathtext.fontset': 'stix',\n",
    "    'font.size': 20,\n",
    "    'axes.labelsize': 26,\n",
    "    'legend.fontsize': 26,\n",
    "    'svg.fonttype': 'path',  # Embed characters as paths\n",
    "    #'svg.fonttype': 'none',  # Assume fonts are installed on the machine\n",
    "    'pdf.fonttype': 42,  # embed fonts in PDF using type42 (True type)\n",
    "}\n",
    "\n",
    "plt.rcParams.update(rcParams_dict)"
   ]
  },
  {
   "cell_type": "code",
   "execution_count": 2,
   "metadata": {},
   "outputs": [
    {
     "ename": "FileNotFoundError",
     "evalue": "[Errno 2] No such file or directory: './data/pkl_data/opt_struc_data.pkl'",
     "output_type": "error",
     "traceback": [
      "\u001b[0;31m---------------------------------------------------------------------------\u001b[0m",
      "\u001b[0;31mFileNotFoundError\u001b[0m                         Traceback (most recent call last)",
      "Cell \u001b[0;32mIn[2], line 19\u001b[0m\n\u001b[1;32m     11\u001b[0m \u001b[38;5;66;03m# Setting up the SOAP descriptor\u001b[39;00m\n\u001b[1;32m     12\u001b[0m soap \u001b[38;5;241m=\u001b[39m SOAP(\n\u001b[1;32m     13\u001b[0m     species\u001b[38;5;241m=\u001b[39mspecies,\n\u001b[1;32m     14\u001b[0m     periodic\u001b[38;5;241m=\u001b[39m\u001b[38;5;28;01mFalse\u001b[39;00m,\n\u001b[0;32m   (...)\u001b[0m\n\u001b[1;32m     17\u001b[0m     l_max\u001b[38;5;241m=\u001b[39ml_max,\n\u001b[1;32m     18\u001b[0m )\n\u001b[0;32m---> 19\u001b[0m soap_atoms \u001b[38;5;241m=\u001b[39m soap\u001b[38;5;241m.\u001b[39mcreate(\u001b[43maction\u001b[49m\u001b[38;5;241;43m.\u001b[39;49m\u001b[43mget_atoms\u001b[49m\u001b[43m(\u001b[49m\u001b[38;5;124;43m'\u001b[39;49m\u001b[38;5;124;43mopt\u001b[39;49m\u001b[38;5;124;43m'\u001b[39;49m\u001b[43m,\u001b[49m\u001b[43m \u001b[49m\u001b[43mcid\u001b[49m\u001b[38;5;241;43m=\u001b[39;49m\u001b[38;5;241;43m0\u001b[39;49m\u001b[43m)\u001b[49m, centers\u001b[38;5;241m=\u001b[39m[\u001b[38;5;241m0\u001b[39m])\n\u001b[1;32m     20\u001b[0m plt\u001b[38;5;241m.\u001b[39mscatter(\u001b[38;5;28mrange\u001b[39m(\u001b[38;5;28mlen\u001b[39m(soap_atoms[\u001b[38;5;241m0\u001b[39m])),soap_atoms[\u001b[38;5;241m0\u001b[39m] ,s\u001b[38;5;241m=\u001b[39m\u001b[38;5;241m10\u001b[39m)\n\u001b[1;32m     21\u001b[0m plt\u001b[38;5;241m.\u001b[39mtitle(\u001b[38;5;124mf\u001b[39m\u001b[38;5;124m'\u001b[39m\u001b[38;5;124mCu4Au4 SOAP descriptor generated with Cryspy(n_max=\u001b[39m\u001b[38;5;132;01m{\u001b[39;00mn_max\u001b[38;5;132;01m}\u001b[39;00m\u001b[38;5;124m, l_max=\u001b[39m\u001b[38;5;132;01m{\u001b[39;00ml_max\u001b[38;5;132;01m}\u001b[39;00m\u001b[38;5;124m)\u001b[39m\u001b[38;5;124m'\u001b[39m)\n",
      "File \u001b[0;32m~/Downloads/2025_02_18_CrySPY-1.4.0b10/CrySPY_git/src/cryspy/interactive/action.py:106\u001b[0m, in \u001b[0;36mget_atoms\u001b[0;34m(status, cid)\u001b[0m\n\u001b[1;32m    105\u001b[0m \u001b[38;5;28;01mdef\u001b[39;00m\u001b[38;5;250m \u001b[39m\u001b[38;5;21mget_atoms\u001b[39m(status: \u001b[38;5;28mstr\u001b[39m, cid: \u001b[38;5;28mint\u001b[39m):\n\u001b[0;32m--> 106\u001b[0m     \u001b[38;5;28;01mreturn\u001b[39;00m \u001b[43mget_ase_atoms\u001b[49m\u001b[43m(\u001b[49m\u001b[43mstatus\u001b[49m\u001b[43m,\u001b[49m\u001b[43m \u001b[49m\u001b[43mcid\u001b[49m\u001b[43m)\u001b[49m\n",
      "File \u001b[0;32m~/Downloads/2025_02_18_CrySPY-1.4.0b10/CrySPY_git/src/cryspy/interactive/manage_structure.py:26\u001b[0m, in \u001b[0;36mget_ase_atoms\u001b[0;34m(status, cid)\u001b[0m\n\u001b[1;32m     24\u001b[0m     struc_data \u001b[38;5;241m=\u001b[39m pkl_data\u001b[38;5;241m.\u001b[39mload_init_struc()\n\u001b[1;32m     25\u001b[0m \u001b[38;5;28;01melif\u001b[39;00m status \u001b[38;5;241m==\u001b[39m \u001b[38;5;124m'\u001b[39m\u001b[38;5;124mopt\u001b[39m\u001b[38;5;124m'\u001b[39m:\n\u001b[0;32m---> 26\u001b[0m     struc_data \u001b[38;5;241m=\u001b[39m \u001b[43mpkl_data\u001b[49m\u001b[38;5;241;43m.\u001b[39;49m\u001b[43mload_opt_struc\u001b[49m\u001b[43m(\u001b[49m\u001b[43m)\u001b[49m\n\u001b[1;32m     27\u001b[0m \u001b[38;5;28;01melse\u001b[39;00m:\n\u001b[1;32m     28\u001b[0m     \u001b[38;5;28;01mraise\u001b[39;00m \u001b[38;5;167;01mValueError\u001b[39;00m(\u001b[38;5;124m'\u001b[39m\u001b[38;5;124mstatus should be init or opt\u001b[39m\u001b[38;5;124m'\u001b[39m)\n",
      "File \u001b[0;32m~/Downloads/2025_02_18_CrySPY-1.4.0b10/CrySPY_git/src/cryspy/IO/pkl_data.py:30\u001b[0m, in \u001b[0;36mload_opt_struc\u001b[0;34m()\u001b[0m\n\u001b[1;32m     29\u001b[0m \u001b[38;5;28;01mdef\u001b[39;00m\u001b[38;5;250m \u001b[39m\u001b[38;5;21mload_opt_struc\u001b[39m():\n\u001b[0;32m---> 30\u001b[0m     \u001b[38;5;28;01mwith\u001b[39;00m \u001b[38;5;28;43mopen\u001b[39;49m\u001b[43m(\u001b[49m\u001b[38;5;124;43m'\u001b[39;49m\u001b[38;5;124;43m./data/pkl_data/opt_struc_data.pkl\u001b[39;49m\u001b[38;5;124;43m'\u001b[39;49m\u001b[43m,\u001b[49m\u001b[43m \u001b[49m\u001b[38;5;124;43m'\u001b[39;49m\u001b[38;5;124;43mrb\u001b[39;49m\u001b[38;5;124;43m'\u001b[39;49m\u001b[43m)\u001b[49m \u001b[38;5;28;01mas\u001b[39;00m f:\n\u001b[1;32m     31\u001b[0m         \u001b[38;5;28;01mreturn\u001b[39;00m pickle\u001b[38;5;241m.\u001b[39mload(f)\n",
      "\u001b[0;31mFileNotFoundError\u001b[0m: [Errno 2] No such file or directory: './data/pkl_data/opt_struc_data.pkl'"
     ]
    }
   ],
   "source": [
    "from dscribe.descriptors import SOAP\n",
    "from ase.build import molecule\n",
    "from cryspy.interactive import action\n",
    "\n",
    "species = [\"Cu\",\"Au\"]\n",
    "mol = \"CH3OH\"\n",
    "r_cut = 6.0\n",
    "n_max = 8\n",
    "l_max = 2\n",
    "\n",
    "# Setting up the SOAP descriptor\n",
    "soap = SOAP(\n",
    "    species=species,\n",
    "    periodic=False,\n",
    "    r_cut=r_cut,\n",
    "    n_max=n_max,\n",
    "    l_max=l_max,\n",
    ")\n",
    "soap_atoms = soap.create(action.get_atoms('opt', cid=0), centers=[0])\n",
    "plt.scatter(range(len(soap_atoms[0])),soap_atoms[0] ,s=10)\n",
    "plt.title(f'Cu4Au4 SOAP descriptor generated with Cryspy(n_max={n_max}, l_max={l_max})')\n"
   ]
  }
 ],
 "metadata": {
  "kernelspec": {
   "display_name": "base",
   "language": "python",
   "name": "python3"
  },
  "language_info": {
   "codemirror_mode": {
    "name": "ipython",
    "version": 3
   },
   "file_extension": ".py",
   "mimetype": "text/x-python",
   "name": "python",
   "nbconvert_exporter": "python",
   "pygments_lexer": "ipython3",
   "version": "3.10.9"
  }
 },
 "nbformat": 4,
 "nbformat_minor": 2
}
