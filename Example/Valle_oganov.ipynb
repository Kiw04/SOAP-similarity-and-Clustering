{
 "cells": [
  {
   "cell_type": "code",
   "execution_count": null,
   "metadata": {},
   "outputs": [
    {
     "ename": "AttributeError",
     "evalue": "'Atoms' object has no attribute 'is_ordered'",
     "output_type": "error",
     "traceback": [
      "\u001b[0;31m---------------------------------------------------------------------------\u001b[0m",
      "\u001b[0;31mAttributeError\u001b[0m                            Traceback (most recent call last)",
      "Cell \u001b[0;32mIn[4], line 17\u001b[0m\n\u001b[1;32m      8\u001b[0m vo \u001b[38;5;241m=\u001b[39m ValleOganov(\n\u001b[1;32m      9\u001b[0m     species\u001b[38;5;241m=\u001b[39m[\u001b[38;5;124m\"\u001b[39m\u001b[38;5;124mNa\u001b[39m\u001b[38;5;124m\"\u001b[39m, \u001b[38;5;124m\"\u001b[39m\u001b[38;5;124mCl\u001b[39m\u001b[38;5;124m\"\u001b[39m],\n\u001b[1;32m     10\u001b[0m     function\u001b[38;5;241m=\u001b[39m\u001b[38;5;124m\"\u001b[39m\u001b[38;5;124mdistance\u001b[39m\u001b[38;5;124m\"\u001b[39m,\n\u001b[0;32m   (...)\u001b[0m\n\u001b[1;32m     13\u001b[0m     r_cut\u001b[38;5;241m=\u001b[39m\u001b[38;5;241m10\u001b[39m\n\u001b[1;32m     14\u001b[0m )\n\u001b[1;32m     16\u001b[0m NaCl \u001b[38;5;241m=\u001b[39m molecule(\u001b[38;5;124m'\u001b[39m\u001b[38;5;124mNaCl\u001b[39m\u001b[38;5;124m'\u001b[39m)\n\u001b[0;32m---> 17\u001b[0m atoms \u001b[38;5;241m=\u001b[39m \u001b[43mAseAtomsAdaptor\u001b[49m\u001b[38;5;241;43m.\u001b[39;49m\u001b[43mget_atoms\u001b[49m\u001b[43m(\u001b[49m\u001b[43mNaCl\u001b[49m\u001b[43m)\u001b[49m\n\u001b[1;32m     19\u001b[0m vo_fp \u001b[38;5;241m=\u001b[39m vo\u001b[38;5;241m.\u001b[39mcreate(atoms)\n\u001b[1;32m     21\u001b[0m plt\u001b[38;5;241m.\u001b[39mplot(vo_fp)\n",
      "File \u001b[0;32m~/.pyenv/versions/miniforge3-22.11.1-4/lib/python3.10/site-packages/pymatgen/io/ase.py:100\u001b[0m, in \u001b[0;36mAseAtomsAdaptor.get_atoms\u001b[0;34m(structure, msonable, **kwargs)\u001b[0m\n\u001b[1;32m     98\u001b[0m \u001b[38;5;28;01mif\u001b[39;00m NO_ASE_ERR \u001b[38;5;129;01mis\u001b[39;00m \u001b[38;5;129;01mnot\u001b[39;00m \u001b[38;5;28;01mNone\u001b[39;00m:\n\u001b[1;32m     99\u001b[0m     \u001b[38;5;28;01mraise\u001b[39;00m NO_ASE_ERR\n\u001b[0;32m--> 100\u001b[0m \u001b[38;5;28;01mif\u001b[39;00m \u001b[38;5;129;01mnot\u001b[39;00m \u001b[43mstructure\u001b[49m\u001b[38;5;241;43m.\u001b[39;49m\u001b[43mis_ordered\u001b[49m:\n\u001b[1;32m    101\u001b[0m     \u001b[38;5;28;01mraise\u001b[39;00m \u001b[38;5;167;01mValueError\u001b[39;00m(\u001b[38;5;124m\"\u001b[39m\u001b[38;5;124mASE Atoms only supports ordered structures\u001b[39m\u001b[38;5;124m\"\u001b[39m)\n\u001b[1;32m    103\u001b[0m \u001b[38;5;66;03m# Construct the base ASE Atoms object\u001b[39;00m\n",
      "\u001b[0;31mAttributeError\u001b[0m: 'Atoms' object has no attribute 'is_ordered'"
     ]
    }
   ],
   "source": [
    "import numpy as np\n",
    "from dscribe.descriptors import ValleOganov\n",
    "from pymatgen.io.ase import AseAtomsAdaptor\n",
    "from ase.build import molecule\n",
    "from ase import Atoms\n",
    "import matplotlib as plt\n",
    "# Setup\n",
    "vo = ValleOganov(\n",
    "    species=[\"Na\", \"Cl\"],\n",
    "    function=\"distance\",\n",
    "    sigma=0.5,\n",
    "    n=20,\n",
    "    r_cut=10\n",
    ")\n",
    "\n",
    "NaCl = init_struc_data[0]\n",
    "atoms = AseAtomsAdaptor.get_atoms(NaCl)\n",
    "\n",
    "vo_fp = vo.create(atoms)\n",
    "\n",
    "plt.plot(vo_fp)"
   ]
  }
 ],
 "metadata": {
  "kernelspec": {
   "display_name": "base",
   "language": "python",
   "name": "python3"
  },
  "language_info": {
   "codemirror_mode": {
    "name": "ipython",
    "version": 3
   },
   "file_extension": ".py",
   "mimetype": "text/x-python",
   "name": "python",
   "nbconvert_exporter": "python",
   "pygments_lexer": "ipython3",
   "version": "3.10.9"
  }
 },
 "nbformat": 4,
 "nbformat_minor": 2
}
