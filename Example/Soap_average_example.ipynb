{
 "cells": [
  {
   "cell_type": "code",
   "execution_count": 1,
   "metadata": {},
   "outputs": [],
   "source": [
    "import numpy as np\n",
    "from dscribe.descriptors import SOAP\n",
    "from ase import Atoms\n",
    "from ase.build import molecule"
   ]
  },
  {
   "cell_type": "code",
   "execution_count": 12,
   "metadata": {},
   "outputs": [
    {
     "ename": "ValueError",
     "evalue": "System doesn't have cell to justify periodicity.",
     "output_type": "error",
     "traceback": [
      "\u001b[0;31m---------------------------------------------------------------------------\u001b[0m",
      "\u001b[0;31mValueError\u001b[0m                                Traceback (most recent call last)",
      "Cell \u001b[0;32mIn[12], line 17\u001b[0m\n\u001b[1;32m     11\u001b[0m \u001b[38;5;124;03m'''\u001b[39;00m\n\u001b[1;32m     12\u001b[0m \u001b[38;5;124;03mwater = molecule('H2O')\u001b[39;00m\n\u001b[1;32m     13\u001b[0m \u001b[38;5;124;03msoap_water = average_soap.create(water)\u001b[39;00m\n\u001b[1;32m     14\u001b[0m \u001b[38;5;124;03mprint(\"Average SOAP water: \", soap_water.shape)\u001b[39;00m\n\u001b[1;32m     15\u001b[0m \u001b[38;5;124;03m'''\u001b[39;00m\n\u001b[1;32m     16\u001b[0m methanol \u001b[38;5;241m=\u001b[39m molecule(\u001b[38;5;124m'\u001b[39m\u001b[38;5;124mCH3OH\u001b[39m\u001b[38;5;124m'\u001b[39m)\n\u001b[0;32m---> 17\u001b[0m soap_methanol \u001b[38;5;241m=\u001b[39m \u001b[43maverage_soap\u001b[49m\u001b[38;5;241;43m.\u001b[39;49m\u001b[43mcreate\u001b[49m\u001b[43m(\u001b[49m\u001b[43mmethanol\u001b[49m\u001b[43m)\u001b[49m\n\u001b[1;32m     18\u001b[0m \u001b[38;5;28mprint\u001b[39m(\u001b[38;5;124m\"\u001b[39m\u001b[38;5;124mAverage SOAP methanol: \u001b[39m\u001b[38;5;124m\"\u001b[39m, soap_methanol\u001b[38;5;241m.\u001b[39mshape)\n\u001b[1;32m     19\u001b[0m \u001b[38;5;124;03m'''\u001b[39;00m\n\u001b[1;32m     20\u001b[0m \u001b[38;5;124;03mh2o2 = molecule('H2O2')\u001b[39;00m\n\u001b[1;32m     21\u001b[0m \u001b[38;5;124;03msoap_peroxide = average_soap.create(h2o2)\u001b[39;00m\n\u001b[0;32m   (...)\u001b[0m\n\u001b[1;32m     26\u001b[0m \u001b[38;5;124;03mprint(\"Average SOAP peroxide: \", soap_NaCl.shape)\u001b[39;00m\n\u001b[1;32m     27\u001b[0m \u001b[38;5;124;03m'''\u001b[39;00m\n",
      "File \u001b[0;32m~/.pyenv/versions/miniforge3-22.11.1-4/lib/python3.10/site-packages/dscribe/descriptors/soap.py:478\u001b[0m, in \u001b[0;36mSOAP.create\u001b[0;34m(self, system, centers, n_jobs, only_physical_cores, verbose)\u001b[0m\n\u001b[1;32m    475\u001b[0m         static_size \u001b[38;5;241m=\u001b[39m [n_centers, n_features]\n\u001b[1;32m    477\u001b[0m \u001b[38;5;66;03m# Create in parallel\u001b[39;00m\n\u001b[0;32m--> 478\u001b[0m output \u001b[38;5;241m=\u001b[39m \u001b[38;5;28;43mself\u001b[39;49m\u001b[38;5;241;43m.\u001b[39;49m\u001b[43mcreate_parallel\u001b[49m\u001b[43m(\u001b[49m\n\u001b[1;32m    479\u001b[0m \u001b[43m    \u001b[49m\u001b[43minp\u001b[49m\u001b[43m,\u001b[49m\n\u001b[1;32m    480\u001b[0m \u001b[43m    \u001b[49m\u001b[38;5;28;43mself\u001b[39;49m\u001b[38;5;241;43m.\u001b[39;49m\u001b[43mcreate_single\u001b[49m\u001b[43m,\u001b[49m\n\u001b[1;32m    481\u001b[0m \u001b[43m    \u001b[49m\u001b[43mn_jobs\u001b[49m\u001b[43m,\u001b[49m\n\u001b[1;32m    482\u001b[0m \u001b[43m    \u001b[49m\u001b[43mstatic_size\u001b[49m\u001b[43m,\u001b[49m\n\u001b[1;32m    483\u001b[0m \u001b[43m    \u001b[49m\u001b[43monly_physical_cores\u001b[49m\u001b[43m,\u001b[49m\n\u001b[1;32m    484\u001b[0m \u001b[43m    \u001b[49m\u001b[43mverbose\u001b[49m\u001b[38;5;241;43m=\u001b[39;49m\u001b[43mverbose\u001b[49m\u001b[43m,\u001b[49m\n\u001b[1;32m    485\u001b[0m \u001b[43m\u001b[49m\u001b[43m)\u001b[49m\n\u001b[1;32m    487\u001b[0m \u001b[38;5;28;01mreturn\u001b[39;00m output\n",
      "File \u001b[0;32m~/.pyenv/versions/miniforge3-22.11.1-4/lib/python3.10/site-packages/dscribe/descriptors/descriptor.py:273\u001b[0m, in \u001b[0;36mDescriptor.create_parallel\u001b[0;34m(self, inp, func, n_jobs, static_size, only_physical_cores, verbose, prefer)\u001b[0m\n\u001b[1;32m    271\u001b[0m \u001b[38;5;66;03m# If single system given, skip the parallelization overhead\u001b[39;00m\n\u001b[1;32m    272\u001b[0m \u001b[38;5;28;01mif\u001b[39;00m \u001b[38;5;28mlen\u001b[39m(inp) \u001b[38;5;241m==\u001b[39m \u001b[38;5;241m1\u001b[39m:\n\u001b[0;32m--> 273\u001b[0m     \u001b[38;5;28;01mreturn\u001b[39;00m \u001b[38;5;28mself\u001b[39m\u001b[38;5;241m.\u001b[39mformat_array(\u001b[43mfunc\u001b[49m\u001b[43m(\u001b[49m\u001b[38;5;241;43m*\u001b[39;49m\u001b[43minp\u001b[49m\u001b[43m[\u001b[49m\u001b[38;5;241;43m0\u001b[39;49m\u001b[43m]\u001b[49m\u001b[43m)\u001b[49m)\n\u001b[1;32m    275\u001b[0m \u001b[38;5;66;03m# Determine the number of jobs\u001b[39;00m\n\u001b[1;32m    276\u001b[0m \u001b[38;5;28;01mif\u001b[39;00m n_jobs \u001b[38;5;241m<\u001b[39m \u001b[38;5;241m0\u001b[39m:\n",
      "File \u001b[0;32m~/.pyenv/versions/miniforge3-22.11.1-4/lib/python3.10/site-packages/dscribe/descriptors/soap.py:513\u001b[0m, in \u001b[0;36mSOAP.create_single\u001b[0;34m(self, system, centers)\u001b[0m\n\u001b[1;32m    510\u001b[0m cell \u001b[38;5;241m=\u001b[39m \u001b[38;5;28mself\u001b[39m\u001b[38;5;241m.\u001b[39mvalidate_cell(system\u001b[38;5;241m.\u001b[39mget_cell(), pbc)\n\u001b[1;32m    512\u001b[0m cutoff_padding \u001b[38;5;241m=\u001b[39m \u001b[38;5;28mself\u001b[39m\u001b[38;5;241m.\u001b[39mget_cutoff_padding()\n\u001b[0;32m--> 513\u001b[0m centers, _ \u001b[38;5;241m=\u001b[39m \u001b[38;5;28;43mself\u001b[39;49m\u001b[38;5;241;43m.\u001b[39;49m\u001b[43mprepare_centers\u001b[49m\u001b[43m(\u001b[49m\u001b[43msystem\u001b[49m\u001b[43m,\u001b[49m\u001b[43m \u001b[49m\u001b[43mcenters\u001b[49m\u001b[43m)\u001b[49m\n\u001b[1;32m    514\u001b[0m n_centers \u001b[38;5;241m=\u001b[39m centers\u001b[38;5;241m.\u001b[39mshape[\u001b[38;5;241m0\u001b[39m]\n\u001b[1;32m    515\u001b[0m soap_mat \u001b[38;5;241m=\u001b[39m \u001b[38;5;28mself\u001b[39m\u001b[38;5;241m.\u001b[39minit_descriptor_array(n_centers)\n",
      "File \u001b[0;32m~/.pyenv/versions/miniforge3-22.11.1-4/lib/python3.10/site-packages/dscribe/descriptors/soap.py:315\u001b[0m, in \u001b[0;36mSOAP.prepare_centers\u001b[0;34m(self, system, centers)\u001b[0m\n\u001b[1;32m    313\u001b[0m     cell \u001b[38;5;241m=\u001b[39m system\u001b[38;5;241m.\u001b[39mget_cell()\n\u001b[1;32m    314\u001b[0m     \u001b[38;5;28;01mif\u001b[39;00m np\u001b[38;5;241m.\u001b[39mcross(cell[\u001b[38;5;241m0\u001b[39m], cell[\u001b[38;5;241m1\u001b[39m])\u001b[38;5;241m.\u001b[39mdot(cell[\u001b[38;5;241m2\u001b[39m]) \u001b[38;5;241m==\u001b[39m \u001b[38;5;241m0\u001b[39m:\n\u001b[0;32m--> 315\u001b[0m         \u001b[38;5;28;01mraise\u001b[39;00m \u001b[38;5;167;01mValueError\u001b[39;00m(\u001b[38;5;124m\"\u001b[39m\u001b[38;5;124mSystem doesn\u001b[39m\u001b[38;5;124m'\u001b[39m\u001b[38;5;124mt have cell to justify periodicity.\u001b[39m\u001b[38;5;124m\"\u001b[39m)\n\u001b[1;32m    317\u001b[0m \u001b[38;5;66;03m# Setup the local positions\u001b[39;00m\n\u001b[1;32m    318\u001b[0m \u001b[38;5;28;01mif\u001b[39;00m centers \u001b[38;5;129;01mis\u001b[39;00m \u001b[38;5;28;01mNone\u001b[39;00m:\n",
      "\u001b[0;31mValueError\u001b[0m: System doesn't have cell to justify periodicity."
     ]
    }
   ],
   "source": [
    "#periodic=True, average=\"inner\"とすることで結晶のグローバル記述子を作れそうです \n",
    "average_soap = SOAP(\n",
    "    species=[\"H\",\"O\",\"C\",\"Na\",\"Cl\"],\n",
    "    r_cut=5,\n",
    "    n_max=2,\n",
    "    l_max=1,\n",
    "    average=\"inner\",\n",
    "    periodic =True,\n",
    "    sparse=False\n",
    ")\n",
    "'''\n",
    "water = molecule('H2O')\n",
    "soap_water = average_soap.create(water)\n",
    "print(\"Average SOAP water: \", soap_water.shape)\n",
    "'''\n",
    "methanol = molecule('CH3OH')\n",
    "soap_methanol = average_soap.create(methanol)\n",
    "print(\"Average SOAP methanol: \", soap_methanol.shape)\n",
    "'''\n",
    "h2o2 = molecule('H2O2')\n",
    "soap_peroxide = average_soap.create(h2o2)\n",
    "print(\"Average SOAP peroxide: \", soap_peroxide.shape)\n",
    "\n",
    "NaCl = molecule('NaCl')\n",
    "soap_NaCl = average_soap.create(NaCl)\n",
    "print(\"Average SOAP peroxide: \", soap_NaCl.shape)\n",
    "'''"
   ]
  },
  {
   "cell_type": "code",
   "execution_count": 3,
   "metadata": {},
   "outputs": [
    {
     "name": "stdout",
     "output_type": "stream",
     "text": [
      "Distance matrix: water - methanol - peroxide: \n",
      "[[  0.         163.04397209  82.22471165]\n",
      " [163.04397209   0.         214.69341308]\n",
      " [ 82.22471165 214.69341308   0.        ]]\n"
     ]
    }
   ],
   "source": [
    "from scipy.spatial.distance import pdist, squareform\n",
    "import numpy as np\n",
    "\n",
    "molecules = np.vstack([soap_water, soap_methanol, soap_peroxide])\n",
    "distance = squareform(pdist(molecules))\n",
    "print(\"Distance matrix: water - methanol - peroxide: \")\n",
    "print(distance)"
   ]
  }
 ],
 "metadata": {
  "kernelspec": {
   "display_name": "base",
   "language": "python",
   "name": "python3"
  },
  "language_info": {
   "codemirror_mode": {
    "name": "ipython",
    "version": 3
   },
   "file_extension": ".py",
   "mimetype": "text/x-python",
   "name": "python",
   "nbconvert_exporter": "python",
   "pygments_lexer": "ipython3",
   "version": "3.10.9"
  }
 },
 "nbformat": 4,
 "nbformat_minor": 2
}
