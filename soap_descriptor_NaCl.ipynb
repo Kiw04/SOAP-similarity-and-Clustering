{
 "cells": [
  {
   "cell_type": "markdown",
   "metadata": {},
   "source": [
    "# SOAP Descriptor Example using DScribe\n",
    "This notebook sets up and calculates the partial power spectrum vector $p(r)$ using the SOAP descriptor from `dscribe` for a methanol molecule (CH₃OH)."
   ]
  },
  {
   "cell_type": "code",
   "execution_count": 1,
   "id": "15c55b1f",
   "metadata": {},
   "outputs": [],
   "source": [
    "#%pip install ase==3.22.1\n",
    "#%pip install numpy==1.24.4\n",
    "#%pip install dscribe==2.5.0"
   ]
  },
  {
   "cell_type": "code",
   "execution_count": 2,
   "id": "29edd6cd",
   "metadata": {},
   "outputs": [],
   "source": [
    "from dscribe.descriptors import SOAP\n",
    "from ase.build import molecule\n",
    "import matplotlib.pyplot as plt\n",
    "import numpy as np\n",
    "# Define the elements present in the system\n",
    "species = [\"Na\", \"Cl\"]\n",
    "\n",
    "# SOAP descriptor settings\n",
    "r_cut = 6.0  # Cutoff for local region (in Å)\n",
    "n_max = 2    # Number of radial basis functions\n",
    "l_max = 1    # Maximum degree of spherical harmonics\n",
    "\n",
    "# Setting up the SOAP descriptor\n",
    "soap = SOAP(\n",
    "    species=species,\n",
    "    periodic=False,\n",
    "    r_cut=r_cut,\n",
    "    n_max=n_max,\n",
    "    l_max=l_max,\n",
    ")"
   ]
  },
  {
   "cell_type": "code",
   "execution_count": 3,
   "id": "a09289c4",
   "metadata": {},
   "outputs": [],
   "source": [
    "# Build a methanol (CH3OH) molecule\n",
    "atoms = molecule(\"NaCl\")"
   ]
  },
  {
   "cell_type": "code",
   "execution_count": 4,
   "id": "7d80e403",
   "metadata": {},
   "outputs": [
    {
     "name": "stdout",
     "output_type": "stream",
     "text": [
      "['PH3', 'P2', 'CH3CHO', 'H2COH', 'CS', 'OCHCHO', 'C3H9C', 'CH3COF', 'CH3CH2OCH3', 'HCOOH', 'HCCl3', 'HOCl', 'H2', 'SH2', 'C2H2', 'C4H4NH', 'CH3SCH3', 'SiH2_s3B1d', 'CH3SH', 'CH3CO', 'CO', 'ClF3', 'SiH4', 'C2H6CHOH', 'CH2NHCH2', 'isobutene', 'HCO', 'bicyclobutane', 'LiF', 'Si', 'C2H6', 'CN', 'ClNO', 'S', 'SiF4', 'H3CNH2', 'methylenecyclopropane', 'CH3CH2OH', 'F', 'NaCl', 'CH3Cl', 'CH3SiH3', 'AlF3', 'C2H3', 'ClF', 'PF3', 'PH2', 'CH3CN', 'cyclobutene', 'CH3ONO', 'SiH3', 'C3H6_D3h', 'CO2', 'NO', 'trans-butane', 'H2CCHCl', 'LiH', 'NH2', 'CH', 'CH2OCH2', 'C6H6', 'CH3CONH2', 'cyclobutane', 'H2CCHCN', 'butadiene', 'C', 'H2CO', 'CH3COOH', 'HCF3', 'CH3S', 'CS2', 'SiH2_s1A1d', 'C4H4S', 'N2H4', 'OH', 'CH3OCH3', 'C5H5N', 'H2O', 'HCl', 'CH2_s1A1d', 'CH3CH2SH', 'CH3NO2', 'Cl', 'Be', 'BCl3', 'C4H4O', 'Al', 'CH3O', 'CH3OH', 'C3H7Cl', 'isobutane', 'Na', 'CCl4', 'CH3CH2O', 'H2CCHF', 'C3H7', 'CH3', 'O3', 'P', 'C2H4', 'NCCN', 'S2', 'AlCl3', 'SiCl4', 'SiO', 'C3H4_D2d', 'H', 'COF2', '2-butyne', 'C2H5', 'BF3', 'N2O', 'F2O', 'SO2', 'H2CCl2', 'CF3CN', 'HCN', 'C2H6NH', 'OCS', 'B', 'ClO', 'C3H8', 'HF', 'O2', 'SO', 'NH', 'C2F4', 'NF3', 'CH2_s3B1d', 'CH3CH2Cl', 'CH3COCl', 'NH3', 'C3H9N', 'CF4', 'C3H6_Cs', 'Si2H6', 'HCOOCH3', 'O', 'CCH', 'N', 'Si2', 'C2H6SO', 'C5H8', 'H2CF2', 'Li2', 'CH2SCH2', 'C2Cl4', 'C3H4_C3v', 'CH3COCH3', 'F2', 'CH4', 'SH', 'H2CCO', 'CH3CH2NH2', 'Li', 'N2', 'Cl2', 'H2O2', 'Na2', 'BeH', 'C3H4_C2v', 'NO2']\n",
      "dict_keys(['Be2', 'C7NH5', 'BDA', 'biphenyl', 'C60'])\n"
     ]
    }
   ],
   "source": [
    "#Show all module \n",
    "from ase.collections import g2\n",
    "from ase.build.molecule import extra\n",
    "\n",
    "print(g2.names)\n",
    "print(extra.keys())"
   ]
  },
  {
   "cell_type": "code",
   "execution_count": 5,
   "id": "a1e08017",
   "metadata": {},
   "outputs": [
    {
     "name": "stdout",
     "output_type": "stream",
     "text": [
      "Atom('Na', [np.float64(0.0), np.float64(0.0), np.float64(-1.45166)], index=0)\n"
     ]
    }
   ],
   "source": [
    "# Create SOAP output for the system, focusing on atom index 0\n",
    "soap_atoms = soap.create(atoms, centers=[0])\n",
    "\n",
    "# Print information about the atom\n",
    "print(atoms[0])"
   ]
  },
  {
   "cell_type": "code",
   "execution_count": 6,
   "id": "b5f654fd",
   "metadata": {},
   "outputs": [
    {
     "name": "stdout",
     "output_type": "stream",
     "text": [
      "2.2  8.9  35.3  0.0  0.0  0.0  -0.4  4.0  -1.8  16.1  0.0  0.0  0.0  0.0  0.1  -0.8  7.3  0.0  -0.4  9.2  \n",
      "<class 'numpy.ndarray'>\n",
      "(1, 20)\n"
     ]
    }
   ],
   "source": [
    "# Output the partial power spectrum vector p(r) for atom 0\n",
    "for soap in soap_atoms[0]:\n",
    "    print(f\"{round(soap,1)}\", end=\"  \")\n",
    "print(\"\")\n",
    "\n",
    "# Print the type and shape of the SOAP descriptor\n",
    "print(type(soap_atoms))\n",
    "print(soap_atoms.shape)"
   ]
  },
  {
   "cell_type": "code",
   "execution_count": null,
   "id": "c93c0647",
   "metadata": {},
   "outputs": [],
   "source": [
    "   "
   ]
  },
  {
   "cell_type": "code",
   "execution_count": 7,
   "id": "ae4133c2",
   "metadata": {},
   "outputs": [
    {
     "data": {
      "image/png": "[encoded data removed]",
      "text/plain": [
       "<Figure size 1000x500 with 1 Axes>"
      ]
     },
     "metadata": {},
     "output_type": "display_data"
    }
   ],
   "source": [
    "#PLOT\n",
    "colors = plt.get_cmap('tab10')\n",
    "plt.figure(figsize=(10, 5))\n",
    "for i, vec in enumerate(soap_atoms):\n",
    "    x = list(range(1, len(vec) + 1))  # x: feature indices (1, 2, 3, ...)\n",
    "    plt.scatter(x, vec, label=f'Atom {i}', color=colors(i % 10), alpha=0.7)\n",
    "\n",
    "plt.title(\"SOAP Descriptors for NaCl\")\n",
    "plt.xlabel(\"SOAP output vector Index\")\n",
    "plt.ylabel(\"Partial Power Spectrum\")\n",
    "plt.legend()\n",
    "plt.grid(True)\n",
    "plt.tight_layout()\n",
    "plt.show()"
   ]
  }
 ],
 "metadata": {
  "kernelspec": {
   "display_name": "Python 3",
   "language": "python",
   "name": "python3"
  },
  "language_info": {
   "codemirror_mode": {
    "name": "ipython",
    "version": 3
   },
   "file_extension": ".py",
   "mimetype": "text/x-python",
   "name": "python",
   "nbconvert_exporter": "python",
   "pygments_lexer": "ipython3",
   "version": "3.12.10"
  }
 },
 "nbformat": 4,
 "nbformat_minor": 5
}
