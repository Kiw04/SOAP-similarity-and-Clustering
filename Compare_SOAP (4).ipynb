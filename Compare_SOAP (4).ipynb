{
  "cells": [
    {
      "cell_type": "code",
      "execution_count": 67,
      "metadata": {
        "colab": {
          "base_uri": "https://localhost:8080/"
        },
        "id": "CBw4TRDLMnRM",
        "outputId": "d6a7db26-8105-4dc0-a9d1-f9a3fca562cd"
      },
      "outputs": [],
      "source": [
        "#!pip install dscribe\n",
        "#!pip install ase\n",
        "#!pip install scipy"
      ]
    },
    {
      "cell_type": "code",
      "execution_count": null,
      "metadata": {},
      "outputs": [
        {
          "name": "stdout",
          "output_type": "stream",
          "text": [
            "Element positions (each in a row):\n",
            "Ga: [-2.33346193e-06  2.30570172e+00  6.58600447e+00]\n",
            "Ga: [1.99679692 1.15284913 3.29294988]\n",
            "As: [-2.33346193e-06  2.30570172e+00  2.46330956e+00]\n",
            "As: [1.99679692 1.15284913 5.75636415]\n",
            "[array([-2.33346193e-06,  2.30570172e+00,  6.58600447e+00]), array([1.99679692, 1.15284913, 3.29294988]), array([-2.33346193e-06,  2.30570172e+00,  2.46330956e+00]), array([1.99679692, 1.15284913, 5.75636415])]\n"
          ]
        }
      ],
      "source": [
        "from pymatgen.ext.matproj import MPRester\n",
        "from ase import Atoms\n",
        "\n",
        "# Set Materials Project API key\n",
        "api_key = \"4HwV8OwM6Tu8Q6wzS3m4HbT2X8vOtodP\"\n",
        "\n",
        "# Get the structure for quartz SiO2 (mp-7000)\n",
        "with MPRester(api_key) as mpr:\n",
        "    structure = mpr.get_structure_by_material_id(\"mp-8883\")\n",
        "\n",
        "#  Extract symbols and positions\n",
        "symbols = [str(site.specie) for site in structure.sites]\n",
        "positions = [site.coords for site in structure.sites]\n",
        "\n",
        "#Convert to ASE Atoms object (optional)\n",
        "ase_atoms = Atoms(symbols=symbols, positions=positions)\n",
        "\n",
        "# Print each element and its position\n",
        "print(\"Element positions (each in a row):\")\n",
        "for symbol, pos in zip(symbols, positions):\n",
        "    print(f\"{symbol}: {pos}\")\n",
        "print(positions)\n",
        " "
      ]
    },
    {
      "cell_type": "code",
      "execution_count": 69,
      "metadata": {
        "colab": {
          "base_uri": "https://localhost:8080/"
        },
        "id": "EwqJpA1RMkmA",
        "outputId": "088b2097-7c51-4955-c3b2-04323054dabd"
      },
      "outputs": [
        {
          "name": "stdout",
          "output_type": "stream",
          "text": [
            "\n",
            "Cosine Similarity:\n",
            "SiO2 Quartz vs SiO2 cristobaliter: 0.9940\n",
            "SiO2 Quartz vs GaAs Zinc Blend: 0.0000\n",
            "SiO2 Quartz vs GaAs Wurtzite: 0.0000\n",
            "SiO2 cristobaliter vs GaAs Zinc Blend: 0.0000\n",
            "SiO2 cristobaliter vs GaAs Wurtzite: 0.0000\n",
            "GaAs Zinc Blend vs GaAs Wurtzite: 0.7819\n",
            "\n",
            "Euclidean Distance:\n",
            "SiO2 Quartz vs SiO2 cristobaliter: 1739.5497\n",
            "SiO2 Quartz vs GaAs Zinc Blend: 2630.4831\n",
            "SiO2 Quartz vs GaAs Wurtzite: 2726.0635\n",
            "SiO2 cristobaliter vs GaAs Zinc Blend: 900.1529\n",
            "SiO2 cristobaliter vs GaAs Wurtzite: 1149.8941\n",
            "GaAs Zinc Blend vs GaAs Wurtzite: 675.9588\n"
          ]
        }
      ],
      "source": [
        "import numpy as np\n",
        "from dscribe.descriptors import SOAP\n",
        "from ase import Atoms\n",
        "from ase.build import bulk\n",
        "from sklearn.metrics.pairwise import cosine_similarity\n",
        "from scipy.spatial.distance import euclidean\n",
        "\n",
        "# Define the chemical species across all molecules\n",
        "species = [\"Si\", \"O\", \"Ga\", \"As\"]\n",
        "\n",
        "# Create SOAP descriptor with averaging mode\n",
        "soap = SOAP(\n",
        "    species=species,\n",
        "    periodic=True,\n",
        "    r_cut=5.0,\n",
        "    n_max=8,\n",
        "    l_max=4,\n",
        "    average=\"inner\"  # Proper average mode\n",
        ")\n",
        "\n",
        "# Create molecular structures for SiO2 Quartz, Fused Silica, SiO2 Oxide Layer, GaAs Zinc Blend, and GaAs Wurtzite\n",
        "\n",
        "# SiO2: Quartz (Hexagonal Structure)\n",
        "si_o2_quartz = Atoms(\n",
        "    symbols=[\"Si\", \"Si\",\"Si\", \"O\", \"O\", \"O\", \"O\", \"O\", \"O\"],\n",
        "    positions=[[-1.2651302 ,  2.19127028,  1.84711592], [1.2651312 , 2.19127028, 3.69423739], [ 2.5302614e+00, -5.0000000e-09,  0.0000000e+00],[0.94678257, 3.46832126, 4.61779258],[2.53026451, 2.55409757, 2.77067665],[3.47704845, 0.9142193 , 0.92356073],[1.58347982, 0.9142193 , 4.61779258],[-2.11513671e-06,  1.82844299e+00,  2.77067665e+00],[-0.94678606,  3.46832126,  0.92356073]],\n",
        "    cell=[4.92, 4.92, 5.43],  # Lattice parameter (approx)\n",
        "    pbc=True\n",
        ")\n",
        "\n",
        "# Fused Silica: Amorphous Structure (just an example with random positions)\n",
        "fused_silica = Atoms(\n",
        "    symbols=[\"Si\", \"O\", \"Si\", \"O\", \"Si\", \"O\"],\n",
        "    positions=np.random.rand(6, 3) * 5.43,  # Random positions within a 5.43 Å box\n",
        "    cell=[5.43, 5.43, 5.43],  # Lattice parameter (approx)\n",
        "    pbc=True\n",
        ")\n",
        "\n",
        "# SiO2: high (beta) Cristobaliter \n",
        "si_o2_cristobaliter  = Atoms(\n",
        "    symbols=[\"Si\", \"Si\",\"O\", \"O\",\"O\",\"O\"],\n",
        "    positions=[[5.54904951, 5.54904951, 5.54904951],[3.69936634, 3.69936634, 3.69936634],[2.77452476, 2.77452476, 4.62420793],[2.77452476, 4.62420793, 2.77452476],[4.62420793, 4.62420793, 4.62420793],[4.62420793, 2.77452476, 2.77452476]],\n",
        "    cell=[5.276, 5.276, 5.276],  # Lattice parameter (approx)\n",
        "    pbc=True\n",
        ")\n",
        "\n",
        "# GaAs: Zinc Blend structure (manual definition of atoms and positions)\n",
        "ga_as_zinc_blend = Atoms(\n",
        "    symbols=[\"Ga\", \"As\"],\n",
        "    positions=[[0., 0., 0.],[1.173751, 0.82996725, 2.03299675]],\n",
        "    cell=[5.75, 5.75, 5.75],  # Lattice parameter (approx)\n",
        "    pbc=True\n",
        ")\n",
        "\n",
        "# GaAs: Wurtzite structure (manual definition of atoms and positions)\n",
        "ga_as_wurtzite = Atoms(\n",
        "    symbols=[\"Ga\",\"Ga\", \"As\",  \"As\"],\n",
        "    positions=[[-2.33346193e-06,  2.30570172e+00,  6.58600447e+00],[1.99679692, 1.15284913, 3.29294988],[-2.33346193e-06,  2.30570172e+00,  2.46330956e+00],[1.99679692, 1.15284913, 5.75636415]],\n",
        "    cell=[3.99, 3.99, 6.59],  # Lattice parameter (approx)\n",
        "    pbc=True\n",
        ")\n",
        "\n",
        "# Create SOAP descriptors (averaged over atoms)\n",
        "vec_si_o2_quartz = soap.create(si_o2_quartz)\n",
        "vec_fused_silica = soap.create(fused_silica)\n",
        "vec_si_o2_cristobaliter = soap.create(si_o2_cristobaliter)\n",
        "vec_ga_as_zinc_blend = soap.create(ga_as_zinc_blend)\n",
        "vec_ga_as_wurtzite = soap.create(ga_as_wurtzite)\n",
        "\n",
        "# Cosine similarity\n",
        "#cos_si_o2_quartz_fused_silica = cosine_similarity([vec_si_o2_quartz], [vec_fused_silica])[0][0]\n",
        "cos_si_o2_quartz_si_o2_cristobaliter = cosine_similarity([vec_si_o2_quartz], [vec_si_o2_cristobaliter])[0][0]\n",
        "#cos_fused_silica_si_o2_cristobaliter = cosine_similarity([vec_fused_silica], [vec_si_o2_cristobaliter])[0][0]\n",
        "cos_si_o2_quartz_ga_as_zinc_blend = cosine_similarity([vec_si_o2_quartz], [vec_ga_as_zinc_blend])[0][0]\n",
        "cos_si_o2_quartz_ga_as_wurtzite = cosine_similarity([vec_si_o2_quartz], [vec_ga_as_wurtzite])[0][0]\n",
        "#cos_fused_silica_ga_as_zinc_blend = cosine_similarity([vec_fused_silica], [vec_ga_as_zinc_blend])[0][0]\n",
        "#cos_fused_silica_ga_as_wurtzite = cosine_similarity([vec_fused_silica], [vec_ga_as_wurtzite])[0][0]\n",
        "cos_si_o2_cristobaliter_ga_as_zinc_blend = cosine_similarity([vec_si_o2_cristobaliter], [vec_ga_as_zinc_blend])[0][0]\n",
        "cos_si_o2_cristobaliter_ga_as_wurtzite = cosine_similarity([vec_si_o2_cristobaliter], [vec_ga_as_wurtzite])[0][0]\n",
        "cos_ga_as_zinc_blend_ga_as_wurtzite = cosine_similarity([vec_ga_as_zinc_blend], [vec_ga_as_wurtzite])[0][0]\n",
        "\n",
        "# Euclidean distances\n",
        "#eu_si_o2_quartz_fused_silica = euclidean(vec_si_o2_quartz, vec_fused_silica)\n",
        "eu_si_o2_quartz_si_o2_cristobaliter = euclidean(vec_si_o2_quartz, vec_si_o2_cristobaliter)\n",
        "#eu_fused_silica_si_o2_cristobaliter= euclidean(vec_fused_silica, vec_si_o2_cristobaliter)\n",
        "eu_si_o2_quartz_ga_as_zinc_blend = euclidean(vec_si_o2_quartz, vec_ga_as_zinc_blend)\n",
        "eu_si_o2_quartz_ga_as_wurtzite = euclidean(vec_si_o2_quartz, vec_ga_as_wurtzite)\n",
        "#eu_fused_silica_ga_as_zinc_blend = euclidean(vec_fused_silica, vec_ga_as_zinc_blend)\n",
        "#eu_fused_silica_ga_as_wurtzite = euclidean(vec_fused_silica, vec_ga_as_wurtzite)\n",
        "eu_si_o2_cristobaliter_ga_as_zinc_blend = euclidean(vec_si_o2_cristobaliter, vec_ga_as_zinc_blend)\n",
        "eu_si_o2_cristobaliter_ga_as_wurtzite = euclidean(vec_si_o2_cristobaliter, vec_ga_as_wurtzite)\n",
        "eu_ga_as_zinc_blend_ga_as_wurtzite = euclidean(vec_ga_as_zinc_blend, vec_ga_as_wurtzite)\n",
        "\n",
        "# Output\n",
        "print(\"\\nCosine Similarity:\")\n",
        "#print(f\"SiO2 Quartz vs Fused Silica: {cos_si_o2_quartz_fused_silica:.4f}\")\n",
        "print(f\"SiO2 Quartz vs SiO2 cristobaliter: {cos_si_o2_quartz_si_o2_cristobaliter:.4f}\")\n",
        "#print(f\"Fused Silica vs SiO2 cristobaliter: {cos_fused_silica_si_o2_cristobaliter:.4f}\")\n",
        "print(f\"SiO2 Quartz vs GaAs Zinc Blend: {cos_si_o2_quartz_ga_as_zinc_blend:.4f}\")\n",
        "print(f\"SiO2 Quartz vs GaAs Wurtzite: {cos_si_o2_quartz_ga_as_wurtzite:.4f}\")\n",
        "#print(f\"Fused Silica vs GaAs Zinc Blend: {cos_fused_silica_ga_as_zinc_blend:.4f}\")\n",
        "#print(f\"Fused Silica vs GaAs Wurtzite: {cos_fused_silica_ga_as_wurtzite:.4f}\")\n",
        "print(f\"SiO2 cristobaliter vs GaAs Zinc Blend: {cos_si_o2_cristobaliter_ga_as_zinc_blend:.4f}\")\n",
        "print(f\"SiO2 cristobaliter vs GaAs Wurtzite: {cos_si_o2_cristobaliter_ga_as_wurtzite:.4f}\")\n",
        "print(f\"GaAs Zinc Blend vs GaAs Wurtzite: {cos_ga_as_zinc_blend_ga_as_wurtzite:.4f}\")\n",
        "\n",
        "print(\"\\nEuclidean Distance:\")\n",
        "#print(f\"SiO2 Quartz vs Fused Silica: {eu_si_o2_quartz_fused_silica:.4f}\")\n",
        "print(f\"SiO2 Quartz vs SiO2 cristobaliter: {eu_si_o2_quartz_si_o2_cristobaliter:.4f}\")\n",
        "#print(f\"Fused Silica vs SiO2 cristobaliter: {eu_fused_silica_si_o2_cristobaliter:.4f}\")\n",
        "print(f\"SiO2 Quartz vs GaAs Zinc Blend: {eu_si_o2_quartz_ga_as_zinc_blend:.4f}\")\n",
        "print(f\"SiO2 Quartz vs GaAs Wurtzite: {eu_si_o2_quartz_ga_as_wurtzite:.4f}\")\n",
        "#print(f\"Fused Silica vs GaAs Zinc Blend: {eu_fused_silica_ga_as_zinc_blend:.4f}\")\n",
        "#print(f\"Fused Silica vs GaAs Wurtzite: {eu_fused_silica_ga_as_wurtzite:.4f}\")\n",
        "print(f\"SiO2 cristobaliter vs GaAs Zinc Blend: {eu_si_o2_cristobaliter_ga_as_zinc_blend:.4f}\")\n",
        "print(f\"SiO2 cristobaliter vs GaAs Wurtzite: {eu_si_o2_cristobaliter_ga_as_wurtzite:.4f}\")\n",
        "print(f\"GaAs Zinc Blend vs GaAs Wurtzite: {eu_ga_as_zinc_blend_ga_as_wurtzite:.4f}\")"
      ]
    },
    {
      "cell_type": "code",
      "execution_count": 70,
      "metadata": {
        "colab": {
          "base_uri": "https://localhost:8080/",
          "height": 564
        },
        "id": "Uum8ZjLoPVvz",
        "outputId": "2274aaa8-f863-4897-91b9-726581358950"
      },
      "outputs": [
        {
          "data": {
            "image/png": "[encoded data removed]",
            "text/plain": [
              "<Figure size 800x600 with 1 Axes>"
            ]
          },
          "metadata": {},
          "output_type": "display_data"
        }
      ],
      "source": [
        "import matplotlib.pyplot as plt\n",
        "from sklearn.decomposition import PCA\n",
        "\n",
        "# Stack the SOAP descriptors into a single matrix\n",
        "descriptors = np.array([\n",
        "    vec_si_o2_quartz,\n",
        "    vec_si_o2_cristobaliter,\n",
        "    vec_ga_as_zinc_blend,\n",
        "    vec_ga_as_wurtzite\n",
        "])\n",
        "\n",
        "# Perform PCA to reduce to 2D\n",
        "pca = PCA(n_components=2)\n",
        "pca_result = pca.fit_transform(descriptors)\n",
        "\n",
        "# Colors for each structure\n",
        "colors = ['red',  'blue', 'purple', 'orange']\n",
        "\n",
        "# Labels for each structure\n",
        "labels = ['SiO2 Quartz',  'SiO2 Cristobaliter', 'GaAs Zinc Blend', 'GaAs Wurtzite']\n",
        "\n",
        "# Plotting the results\n",
        "plt.figure(figsize=(8, 6))\n",
        "\n",
        "# Scatter plot with different colors for each data point\n",
        "for i, color in enumerate(colors):\n",
        "    plt.scatter(pca_result[i, 0], pca_result[i, 1], color=color)\n",
        "\n",
        "# Adding legend in the upper right corner\n",
        "plt.legend(labels, loc='upper right')\n",
        "\n",
        "# Plot settings\n",
        "plt.title(\"PCA of Molecular Structures\")\n",
        "plt.xlabel(\"Principal Component 1\")\n",
        "plt.ylabel(\"Principal Component 2\")\n",
        "plt.grid(True)\n",
        "\n",
        "# Show the plot\n",
        "plt.show()\n"
      ]
    }
  ],
  "metadata": {
    "colab": {
      "provenance": []
    },
    "kernelspec": {
      "display_name": "base",
      "language": "python",
      "name": "python3"
    },
    "language_info": {
      "codemirror_mode": {
        "name": "ipython",
        "version": 3
      },
      "file_extension": ".py",
      "mimetype": "text/x-python",
      "name": "python",
      "nbconvert_exporter": "python",
      "pygments_lexer": "ipython3",
      "version": "3.10.9"
    }
  },
  "nbformat": 4,
  "nbformat_minor": 0
}
