{
  "cells": [
    {
      "cell_type": "code",
      "execution_count": 1,
      "metadata": {
        "colab": {
          "base_uri": "https://localhost:8080/"
        },
        "id": "CBw4TRDLMnRM",
        "outputId": "d6a7db26-8105-4dc0-a9d1-f9a3fca562cd"
      },
      "outputs": [],
      "source": [
        "#%pip install ase==3.22.1\n",
        "#%pip install numpy==1.24.4\n",
        "#%pip install dscribe==2.5.0\n",
        "#%pip install scipy"
      ]
    },
    {
      "cell_type": "markdown",
      "metadata": {},
      "source": [
        "# Compare between each substances Euclid Distance and Cosine Similarity\n",
        "# Brownmillerite perovskite structure (POSCAR INPUT) \n",
        "Structure sponsured by Takatsuka san"
      ]
    },
    {
      "cell_type": "code",
      "execution_count": null,
      "metadata": {},
      "outputs": [],
      "source": [
        "from ase.io import read\n",
        "from ase import Atoms\n",
        "\n",
        "atoms = read(\"BM_POSCAR\")\n",
        "atoms_mattersim = read(\"MatterSim_POSCAR\")\n",
        "atoms_CHGnet = read(\"CHGNet_POSCAR\")\n"
      ]
    },
    {
      "cell_type": "code",
      "execution_count": 5,
      "metadata": {},
      "outputs": [],
      "source": [
        "#Parameters setting\n",
        "r_cut=5\n",
        "n_max=2\n",
        "l_max=0"
      ]
    },
    {
      "cell_type": "code",
      "execution_count": 7,
      "metadata": {},
      "outputs": [
        {
          "name": "stdout",
          "output_type": "stream",
          "text": [
            "['Sr', 'Co', 'O']\n"
          ]
        }
      ],
      "source": [
        "species = list(set(atoms.get_chemical_symbols()))\n",
        "print(species)"
      ]
    },
    {
      "cell_type": "code",
      "execution_count": null,
      "metadata": {
        "colab": {
          "base_uri": "https://localhost:8080/"
        },
        "id": "EwqJpA1RMkmA",
        "outputId": "088b2097-7c51-4955-c3b2-04323054dabd"
      },
      "outputs": [
        {
          "name": "stderr",
          "output_type": "stream",
          "text": [
            "Exception ignored in: <bound method IPythonKernel._clean_thread_parent_frames of <ipykernel.ipkernel.IPythonKernel object at 0x109a80400>>\n",
            "Traceback (most recent call last):\n",
            "  File \"/Users/kongkitimanon2024/.pyenv/versions/miniforge3-22.11.1-4/lib/python3.10/site-packages/ipykernel/ipkernel.py\", line 775, in _clean_thread_parent_frames\n",
            "    def _clean_thread_parent_frames(\n",
            "KeyboardInterrupt: \n"
          ]
        },
        {
          "ename": "ValueError",
          "evalue": "The following atomic numbers are not defined for this descriptor: {14}",
          "output_type": "error",
          "traceback": [
            "\u001b[0;31m---------------------------------------------------------------------------\u001b[0m",
            "\u001b[0;31mValueError\u001b[0m                                Traceback (most recent call last)",
            "Cell \u001b[0;32mIn[6], line 54\u001b[0m\n\u001b[1;32m     46\u001b[0m ga_as_wurtzite \u001b[38;5;241m=\u001b[39m Atoms(\n\u001b[1;32m     47\u001b[0m     symbols\u001b[38;5;241m=\u001b[39m[\u001b[38;5;124m\"\u001b[39m\u001b[38;5;124mGa\u001b[39m\u001b[38;5;124m\"\u001b[39m,\u001b[38;5;124m\"\u001b[39m\u001b[38;5;124mGa\u001b[39m\u001b[38;5;124m\"\u001b[39m, \u001b[38;5;124m\"\u001b[39m\u001b[38;5;124mAs\u001b[39m\u001b[38;5;124m\"\u001b[39m,  \u001b[38;5;124m\"\u001b[39m\u001b[38;5;124mAs\u001b[39m\u001b[38;5;124m\"\u001b[39m],\n\u001b[1;32m     48\u001b[0m     positions\u001b[38;5;241m=\u001b[39m[[\u001b[38;5;241m-\u001b[39m\u001b[38;5;241m2.33346193e-06\u001b[39m,  \u001b[38;5;241m2.30570172e+00\u001b[39m,  \u001b[38;5;241m6.58600447e+00\u001b[39m],[\u001b[38;5;241m1.99679692\u001b[39m, \u001b[38;5;241m1.15284913\u001b[39m, \u001b[38;5;241m3.29294988\u001b[39m],[\u001b[38;5;241m-\u001b[39m\u001b[38;5;241m2.33346193e-06\u001b[39m,  \u001b[38;5;241m2.30570172e+00\u001b[39m,  \u001b[38;5;241m2.46330956e+00\u001b[39m],[\u001b[38;5;241m1.99679692\u001b[39m, \u001b[38;5;241m1.15284913\u001b[39m, \u001b[38;5;241m5.75636415\u001b[39m]],\n\u001b[1;32m     49\u001b[0m     cell\u001b[38;5;241m=\u001b[39m[\u001b[38;5;241m3.99\u001b[39m, \u001b[38;5;241m3.99\u001b[39m, \u001b[38;5;241m6.59\u001b[39m],  \u001b[38;5;66;03m# Lattice parameter (approx)\u001b[39;00m\n\u001b[1;32m     50\u001b[0m     pbc\u001b[38;5;241m=\u001b[39m\u001b[38;5;28;01mTrue\u001b[39;00m\n\u001b[1;32m     51\u001b[0m )\n\u001b[1;32m     53\u001b[0m \u001b[38;5;66;03m# Create SOAP descriptors (averaged over atoms)\u001b[39;00m\n\u001b[0;32m---> 54\u001b[0m vec_si_o2_quartz \u001b[38;5;241m=\u001b[39m \u001b[43msoap\u001b[49m\u001b[38;5;241;43m.\u001b[39;49m\u001b[43mcreate\u001b[49m\u001b[43m(\u001b[49m\u001b[43msi_o2_quartz\u001b[49m\u001b[43m)\u001b[49m\n\u001b[1;32m     55\u001b[0m vec_si_o2_cristobaliter \u001b[38;5;241m=\u001b[39m soap\u001b[38;5;241m.\u001b[39mcreate(si_o2_cristobaliter)\n\u001b[1;32m     56\u001b[0m vec_ga_as_zinc_blend \u001b[38;5;241m=\u001b[39m soap\u001b[38;5;241m.\u001b[39mcreate(ga_as_zinc_blend)\n",
            "File \u001b[0;32m~/.pyenv/versions/miniforge3-22.11.1-4/lib/python3.10/site-packages/dscribe/descriptors/soap.py:478\u001b[0m, in \u001b[0;36mSOAP.create\u001b[0;34m(self, system, centers, n_jobs, only_physical_cores, verbose)\u001b[0m\n\u001b[1;32m    475\u001b[0m         static_size \u001b[38;5;241m=\u001b[39m [n_centers, n_features]\n\u001b[1;32m    477\u001b[0m \u001b[38;5;66;03m# Create in parallel\u001b[39;00m\n\u001b[0;32m--> 478\u001b[0m output \u001b[38;5;241m=\u001b[39m \u001b[38;5;28;43mself\u001b[39;49m\u001b[38;5;241;43m.\u001b[39;49m\u001b[43mcreate_parallel\u001b[49m\u001b[43m(\u001b[49m\n\u001b[1;32m    479\u001b[0m \u001b[43m    \u001b[49m\u001b[43minp\u001b[49m\u001b[43m,\u001b[49m\n\u001b[1;32m    480\u001b[0m \u001b[43m    \u001b[49m\u001b[38;5;28;43mself\u001b[39;49m\u001b[38;5;241;43m.\u001b[39;49m\u001b[43mcreate_single\u001b[49m\u001b[43m,\u001b[49m\n\u001b[1;32m    481\u001b[0m \u001b[43m    \u001b[49m\u001b[43mn_jobs\u001b[49m\u001b[43m,\u001b[49m\n\u001b[1;32m    482\u001b[0m \u001b[43m    \u001b[49m\u001b[43mstatic_size\u001b[49m\u001b[43m,\u001b[49m\n\u001b[1;32m    483\u001b[0m \u001b[43m    \u001b[49m\u001b[43monly_physical_cores\u001b[49m\u001b[43m,\u001b[49m\n\u001b[1;32m    484\u001b[0m \u001b[43m    \u001b[49m\u001b[43mverbose\u001b[49m\u001b[38;5;241;43m=\u001b[39;49m\u001b[43mverbose\u001b[49m\u001b[43m,\u001b[49m\n\u001b[1;32m    485\u001b[0m \u001b[43m\u001b[49m\u001b[43m)\u001b[49m\n\u001b[1;32m    487\u001b[0m \u001b[38;5;28;01mreturn\u001b[39;00m output\n",
            "File \u001b[0;32m~/.pyenv/versions/miniforge3-22.11.1-4/lib/python3.10/site-packages/dscribe/descriptors/descriptor.py:273\u001b[0m, in \u001b[0;36mDescriptor.create_parallel\u001b[0;34m(self, inp, func, n_jobs, static_size, only_physical_cores, verbose, prefer)\u001b[0m\n\u001b[1;32m    271\u001b[0m \u001b[38;5;66;03m# If single system given, skip the parallelization overhead\u001b[39;00m\n\u001b[1;32m    272\u001b[0m \u001b[38;5;28;01mif\u001b[39;00m \u001b[38;5;28mlen\u001b[39m(inp) \u001b[38;5;241m==\u001b[39m \u001b[38;5;241m1\u001b[39m:\n\u001b[0;32m--> 273\u001b[0m     \u001b[38;5;28;01mreturn\u001b[39;00m \u001b[38;5;28mself\u001b[39m\u001b[38;5;241m.\u001b[39mformat_array(\u001b[43mfunc\u001b[49m\u001b[43m(\u001b[49m\u001b[38;5;241;43m*\u001b[39;49m\u001b[43minp\u001b[49m\u001b[43m[\u001b[49m\u001b[38;5;241;43m0\u001b[39;49m\u001b[43m]\u001b[49m\u001b[43m)\u001b[49m)\n\u001b[1;32m    275\u001b[0m \u001b[38;5;66;03m# Determine the number of jobs\u001b[39;00m\n\u001b[1;32m    276\u001b[0m \u001b[38;5;28;01mif\u001b[39;00m n_jobs \u001b[38;5;241m<\u001b[39m \u001b[38;5;241m0\u001b[39m:\n",
            "File \u001b[0;32m~/.pyenv/versions/miniforge3-22.11.1-4/lib/python3.10/site-packages/dscribe/descriptors/soap.py:508\u001b[0m, in \u001b[0;36mSOAP.create_single\u001b[0;34m(self, system, centers)\u001b[0m\n\u001b[1;32m    506\u001b[0m \u001b[38;5;66;03m# Validate and normalize system\u001b[39;00m\n\u001b[1;32m    507\u001b[0m positions \u001b[38;5;241m=\u001b[39m \u001b[38;5;28mself\u001b[39m\u001b[38;5;241m.\u001b[39mvalidate_positions(system\u001b[38;5;241m.\u001b[39mget_positions())\n\u001b[0;32m--> 508\u001b[0m atomic_numbers \u001b[38;5;241m=\u001b[39m \u001b[38;5;28;43mself\u001b[39;49m\u001b[38;5;241;43m.\u001b[39;49m\u001b[43mvalidate_atomic_numbers\u001b[49m\u001b[43m(\u001b[49m\u001b[43msystem\u001b[49m\u001b[38;5;241;43m.\u001b[39;49m\u001b[43mget_atomic_numbers\u001b[49m\u001b[43m(\u001b[49m\u001b[43m)\u001b[49m\u001b[43m)\u001b[49m\n\u001b[1;32m    509\u001b[0m pbc \u001b[38;5;241m=\u001b[39m \u001b[38;5;28mself\u001b[39m\u001b[38;5;241m.\u001b[39mvalidate_pbc(system\u001b[38;5;241m.\u001b[39mget_pbc())\n\u001b[1;32m    510\u001b[0m cell \u001b[38;5;241m=\u001b[39m \u001b[38;5;28mself\u001b[39m\u001b[38;5;241m.\u001b[39mvalidate_cell(system\u001b[38;5;241m.\u001b[39mget_cell(), pbc)\n",
            "File \u001b[0;32m~/.pyenv/versions/miniforge3-22.11.1-4/lib/python3.10/site-packages/dscribe/descriptors/descriptor.py:157\u001b[0m, in \u001b[0;36mDescriptor.validate_atomic_numbers\u001b[0;34m(self, atomic_numbers)\u001b[0m\n\u001b[1;32m    155\u001b[0m zs \u001b[38;5;241m=\u001b[39m \u001b[38;5;28mset\u001b[39m(atomic_numbers)\n\u001b[1;32m    156\u001b[0m \u001b[38;5;28;01mif\u001b[39;00m \u001b[38;5;129;01mnot\u001b[39;00m zs\u001b[38;5;241m.\u001b[39missubset(\u001b[38;5;28mself\u001b[39m\u001b[38;5;241m.\u001b[39m_atomic_number_set):\n\u001b[0;32m--> 157\u001b[0m     \u001b[38;5;28;01mraise\u001b[39;00m \u001b[38;5;167;01mValueError\u001b[39;00m(\n\u001b[1;32m    158\u001b[0m         \u001b[38;5;124m\"\u001b[39m\u001b[38;5;124mThe following atomic numbers are not defined \u001b[39m\u001b[38;5;124m\"\u001b[39m\n\u001b[1;32m    159\u001b[0m         \u001b[38;5;124m\"\u001b[39m\u001b[38;5;124mfor this descriptor: \u001b[39m\u001b[38;5;132;01m{}\u001b[39;00m\u001b[38;5;124m\"\u001b[39m\u001b[38;5;241m.\u001b[39mformat(zs\u001b[38;5;241m.\u001b[39mdifference(\u001b[38;5;28mself\u001b[39m\u001b[38;5;241m.\u001b[39m_atomic_number_set))\n\u001b[1;32m    160\u001b[0m     )\n\u001b[1;32m    161\u001b[0m \u001b[38;5;28;01mreturn\u001b[39;00m atomic_numbers\n",
            "\u001b[0;31mValueError\u001b[0m: The following atomic numbers are not defined for this descriptor: {14}"
          ]
        }
      ],
      "source": [
        "import numpy as np\n",
        "from dscribe.descriptors import SOAP\n",
        "from ase import Atoms\n",
        "from sklearn.metrics.pairwise import cosine_similarity\n",
        "from scipy.spatial.distance import euclidean\n",
        "\n",
        "\n",
        "species = list(set(atoms.get_chemical_symbols()))\n",
        "\n",
        "# Create SOAP descriptor with averaging mode\n",
        "soap = SOAP(\n",
        "    species=species,\n",
        "    periodic=True,\n",
        "    r_cut=r_cut,\n",
        "    n_max=n_max,\n",
        "    l_max=l_max,\n",
        "    average=\"inner\"  # Proper average mode\n",
        ")\n",
        "\n",
        "# Create SOAP descriptors (averaged over atoms)\n",
        "vec_bm = soap.create(atoms, positions=[atom.index for atom in atoms])"
      ]
    },
    {
      "cell_type": "markdown",
      "metadata": {},
      "source": [
        "# Create average vector for each substance"
      ]
    },
    {
      "cell_type": "code",
      "execution_count": 5,
      "metadata": {
        "colab": {
          "base_uri": "https://localhost:8080/",
          "height": 564
        },
        "id": "Uum8ZjLoPVvz",
        "outputId": "2274aaa8-f863-4897-91b9-726581358950"
      },
      "outputs": [
        {
          "name": "stdout",
          "output_type": "stream",
          "text": [
            "Average SOAP si_o2_quartz (36,)\n",
            "Average SOAP si_o2_cristobaliter (36,)\n",
            "Average SOAP ga_as_wurtzite (36,)\n",
            "Average SOAP ga_as_zinc_blend (36,)\n"
          ]
        }
      ],
      "source": [
        "#local descriptor into a global descriptor is simply by taking the average over all sites\n",
        "average_soap = SOAP(\n",
        "    species=species,\n",
        "    r_cut=r_cut,\n",
        "    n_max=n_max,\n",
        "    l_max=l_max,\n",
        "    average=\"inner\",\n",
        "    sparse=False\n",
        ")\n",
        "#Sio2_quartz\n",
        "average_si_o2_quartz = average_soap.create(si_o2_quartz)\n",
        "print(\"Average SOAP si_o2_quartz\",average_si_o2_quartz.shape)\n",
        "\n",
        "#Sio2_cristobaliter\n",
        "average_si_o2_cristobaliter = average_soap.create(si_o2_cristobaliter)\n",
        "print(\"Average SOAP si_o2_cristobaliter\",average_si_o2_cristobaliter.shape)\n",
        "\n",
        "#GaAs_Wurtzite\n",
        "average_ga_as_wurtzite = average_soap.create(ga_as_wurtzite)\n",
        "print(\"Average SOAP ga_as_wurtzite\",average_ga_as_wurtzite.shape)\n",
        "\n",
        "#GaAs_Zinc_Blend\n",
        "average_ga_as_zinc_blend = average_soap.create(ga_as_zinc_blend)\n",
        "print(\"Average SOAP ga_as_zinc_blend\",average_ga_as_zinc_blend.shape)"
      ]
    },
    {
      "cell_type": "markdown",
      "metadata": {},
      "source": [
        "# Euclid Distance calculation"
      ]
    },
    {
      "cell_type": "code",
      "execution_count": 6,
      "metadata": {},
      "outputs": [
        {
          "name": "stdout",
          "output_type": "stream",
          "text": [
            "Distance matrix between SiO2: \n",
            "[[0.         5.12437079]\n",
            " [5.12437079 0.        ]]\n",
            "Euclid distance between SiO2:  7.24695466967479\n",
            "\n",
            "Distance matrix between GaAs: \n",
            "[[ 0.        14.4982268]\n",
            " [14.4982268  0.       ]]\n",
            "Euclid distance between GaAs:  20.50358896765264\n",
            "\n"
          ]
        }
      ],
      "source": [
        "from scipy.spatial.distance import pdist, squareform\n",
        "import numpy as np\n",
        "\n",
        "molecules_si_o2 = np.vstack([average_si_o2_quartz, average_si_o2_cristobaliter])\n",
        "distance_si_o2 = squareform(pdist(molecules_si_o2))\n",
        "print(\"Distance matrix between SiO2: \")\n",
        "print(distance_si_o2)\n",
        "#Euclid Distance calculate\n",
        "print(\"Euclid distance between SiO2: \",np.linalg.norm(distance_si_o2))\n",
        "print(\"\")\n",
        "\n",
        "molecules_ga_as = np.vstack([average_ga_as_wurtzite, average_ga_as_zinc_blend])\n",
        "distance_ga_as = squareform(pdist(molecules_ga_as))\n",
        "print(\"Distance matrix between GaAs: \")\n",
        "print(distance_ga_as)\n",
        "#Euclid Distance calculate\n",
        "print(\"Euclid distance between GaAs: \",np.linalg.norm(distance_ga_as))\n",
        "print(\"\")\n"
      ]
    },
    {
      "cell_type": "markdown",
      "metadata": {},
      "source": [
        "# Cosine Similarity Calculation"
      ]
    },
    {
      "cell_type": "markdown",
      "metadata": {},
      "source": [
        "The similarity can take values between -1 and +1. Smaller angles between vectors produce larger cosine values, indicating greater cosine similarity. \n",
        "\n",
        "cos(angle)= dot product between vectors /(L2 norm of vector1)* (L2 norm of vector2)\n",
        "\n",
        "For example:\n",
        "- When two vectors have the same orientation, the angle between them is 0, and the cosine similarity is 1.\n",
        "- Perpendicular vectors have a 90-degree angle between them and a cosine similarity of 0.\n",
        "- Opposite vectors have an angle of 180 degrees between them and a cosine similarity of -1.\n",
        "\n",
        "Ref: https://www.learndatasci.com/glossary/cosine-similarity/"
      ]
    },
    {
      "cell_type": "code",
      "execution_count": 12,
      "metadata": {},
      "outputs": [
        {
          "name": "stdout",
          "output_type": "stream",
          "text": [
            "cos_sim_si_o2:  0.99999100536915\n",
            "cos_sim_ga_as:  0.9988064907593264\n"
          ]
        }
      ],
      "source": [
        "import math\n",
        "\n",
        "def cos_sim(p, q):\n",
        "    return np.dot(p, q) / (np.linalg.norm(p) * np.linalg.norm(q))\n",
        "\n",
        "cos_sim_si_o2 =cos_sim(average_si_o2_quartz,average_si_o2_cristobaliter)\n",
        "print(\"cos_sim_si_o2: \",cos_sim_si_o2)\n",
        "\n",
        "cos_sim_ga_as =cos_sim(average_ga_as_wurtzite, average_ga_as_zinc_blend)\n",
        "print(\"cos_sim_ga_as: \",cos_sim_ga_as)\n"
      ]
    }
  ],
  "metadata": {
    "colab": {
      "provenance": []
    },
    "kernelspec": {
      "display_name": "base",
      "language": "python",
      "name": "python3"
    },
    "language_info": {
      "codemirror_mode": {
        "name": "ipython",
        "version": 3
      },
      "file_extension": ".py",
      "mimetype": "text/x-python",
      "name": "python",
      "nbconvert_exporter": "python",
      "pygments_lexer": "ipython3",
      "version": "3.10.9"
    }
  },
  "nbformat": 4,
  "nbformat_minor": 0
}
