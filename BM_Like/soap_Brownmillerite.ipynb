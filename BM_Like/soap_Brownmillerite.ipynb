{
  "cells": [
    {
      "cell_type": "code",
      "execution_count": 80,
      "metadata": {
        "colab": {
          "base_uri": "https://localhost:8080/"
        },
        "id": "CBw4TRDLMnRM",
        "outputId": "d6a7db26-8105-4dc0-a9d1-f9a3fca562cd"
      },
      "outputs": [],
      "source": [
        "#%pip install ase==3.22.1\n",
        "#%pip install numpy==1.24.4\n",
        "#%pip install dscribe==2.5.0\n",
        "#%pip install scipy"
      ]
    },
    {
      "cell_type": "markdown",
      "metadata": {},
      "source": [
        "# Compare between each substances Euclid Distance and Cosine Similarity\n",
        "# Brownmillerite perovskite structure (POSCAR INPUT) \n",
        "Structure sponsured by Takatsuka san"
      ]
    },
    {
      "cell_type": "code",
      "execution_count": 81,
      "metadata": {},
      "outputs": [],
      "source": [
        "from ase.io import read\n",
        "from ase import Atoms\n",
        "\n",
        "atoms = read(\"BM_POSCAR\")\n",
        "atoms_CHGNet = read(\"CHGNet_POSCAR\")\n",
        "atoms_mattersim = read(\"MatterSim_POSCAR\")"
      ]
    },
    {
      "cell_type": "code",
      "execution_count": 82,
      "metadata": {},
      "outputs": [],
      "source": [
        "#Parameters setting\n",
        "r_cut=5\n",
        "n_max=2\n",
        "l_max=2"
      ]
    },
    {
      "cell_type": "code",
      "execution_count": 83,
      "metadata": {},
      "outputs": [
        {
          "name": "stdout",
          "output_type": "stream",
          "text": [
            "['Co', 'O', 'Sr']\n"
          ]
        }
      ],
      "source": [
        "species = list(set(atoms.get_chemical_symbols()))\n",
        "print(species)"
      ]
    },
    {
      "cell_type": "code",
      "execution_count": 84,
      "metadata": {
        "colab": {
          "base_uri": "https://localhost:8080/"
        },
        "id": "EwqJpA1RMkmA",
        "outputId": "088b2097-7c51-4955-c3b2-04323054dabd"
      },
      "outputs": [
        {
          "data": {
            "text/plain": [
              "'\\nvec_bm = soap.create(atoms)\\nvec_bm_mattersim = soap.create(atoms_mattersim)\\nvec_CHGNet = soap.create(atoms_CHGNet)\\n'"
            ]
          },
          "execution_count": 84,
          "metadata": {},
          "output_type": "execute_result"
        }
      ],
      "source": [
        "import numpy as np\n",
        "from dscribe.descriptors import SOAP\n",
        "from ase import Atoms\n",
        "\n",
        "\n",
        "\n",
        "species = list(set(atoms.get_chemical_symbols()))\n",
        "\n",
        "# Create SOAP descriptor with averaging mode\n",
        "soap = SOAP(\n",
        "    species=species,\n",
        "    periodic=True,\n",
        "    r_cut=r_cut,\n",
        "    n_max=n_max,\n",
        "    l_max=l_max,\n",
        "    average=\"inner\"  # Proper average mode\n",
        ")\n",
        "\n",
        "'''\n",
        "vec_bm = soap.create(atoms)\n",
        "vec_bm_mattersim = soap.create(atoms_mattersim)\n",
        "vec_CHGNet = soap.create(atoms_CHGNet)\n",
        "'''"
      ]
    },
    {
      "cell_type": "markdown",
      "metadata": {},
      "source": [
        "# Create average vector for each substance"
      ]
    },
    {
      "cell_type": "code",
      "execution_count": 85,
      "metadata": {
        "colab": {
          "base_uri": "https://localhost:8080/",
          "height": 564
        },
        "id": "Uum8ZjLoPVvz",
        "outputId": "2274aaa8-f863-4897-91b9-726581358950"
      },
      "outputs": [
        {
          "name": "stdout",
          "output_type": "stream",
          "text": [
            "Average SOAP Brownmillerite (63,)\n",
            "Average SOAP Brownmillerite by mattersim (63,)\n",
            "Average SOAP Brownmillerite by CHGNET (63,)\n"
          ]
        }
      ],
      "source": [
        "#local descriptor into a global descriptor is simply by taking the average over all sites\n",
        "average_soap = SOAP(\n",
        "    species=species,\n",
        "    r_cut=r_cut,\n",
        "    n_max=n_max,\n",
        "    l_max=l_max,\n",
        "    average=\"inner\",\n",
        "    sparse=False\n",
        ")\n",
        "average_bm = average_soap.create(atoms)\n",
        "print(\"Average SOAP Brownmillerite\",average_bm.shape)\n",
        "\n",
        "average_bm_mattersim = average_soap.create(atoms_mattersim)\n",
        "print(\"Average SOAP Brownmillerite by mattersim\",average_bm_mattersim.shape)\n",
        "\n",
        "\n",
        "average_bm_CHGNet = average_soap.create(atoms_CHGNet)\n",
        "print(\"Average SOAP Brownmillerite by CHGNET\",average_bm_CHGNet.shape)"
      ]
    },
    {
      "cell_type": "markdown",
      "metadata": {},
      "source": [
        "# Euclid Distance calculation"
      ]
    },
    {
      "cell_type": "code",
      "execution_count": 86,
      "metadata": {},
      "outputs": [
        {
          "name": "stdout",
          "output_type": "stream",
          "text": [
            "Distance matrix between brownmillerite and mattersim created: \n",
            "[[ 0.         44.10008712]\n",
            " [44.10008712  0.        ]]\n",
            "Euclid distance between brownmillerite and mattersim created:  62.36694131157275\n",
            "\n",
            "Distance matrix between brownmillerite and CHGNet: \n",
            "[[ 0.        45.5252145]\n",
            " [45.5252145  0.       ]]\n",
            "Euclid distance between brownmillerite and CHGNet:  64.38237577520665\n",
            "\n",
            "Distance matrix between CHGNet and mattersim: \n",
            "[[0.         8.95452902]\n",
            " [8.95452902 0.        ]]\n",
            "Euclid distance between CHGNet and mattersim:  12.663616383967895\n",
            "\n"
          ]
        }
      ],
      "source": [
        "from scipy.spatial.distance import pdist, squareform\n",
        "import numpy as np\n",
        "\n",
        "molecules_bm_vs_mattersim = np.vstack([average_bm, average_bm_mattersim])\n",
        "distance_bm_vs_mattersim = squareform(pdist(molecules_bm_vs_mattersim))\n",
        "print(\"Distance matrix between brownmillerite and mattersim created: \")\n",
        "print(distance_bm_vs_mattersim)\n",
        "#Euclid Distance calculate\n",
        "print(\"Euclid distance between brownmillerite and mattersim created: \",np.linalg.norm(distance_bm_vs_mattersim))\n",
        "print(\"\")\n",
        "\n",
        "molecules_bm_vs_CHGNet = np.vstack([average_bm, average_bm_CHGNet])\n",
        "distance_bm_vs_CHGNet = squareform(pdist(molecules_bm_vs_CHGNet))\n",
        "print(\"Distance matrix between brownmillerite and CHGNet: \")\n",
        "print(distance_bm_vs_CHGNet)\n",
        "#Euclid Distance calculate\n",
        "print(\"Euclid distance between brownmillerite and CHGNet: \",np.linalg.norm(distance_bm_vs_CHGNet))\n",
        "print(\"\")\n",
        "\n",
        "molecules_CHGNet_vs_mattersim = np.vstack([average_bm_CHGNet,average_bm_mattersim])\n",
        "distance_CHGNet_vs_mattersim = squareform(pdist(molecules_CHGNet_vs_mattersim))\n",
        "print(\"Distance matrix between CHGNet and mattersim: \")\n",
        "print(distance_CHGNet_vs_mattersim)\n",
        "#Euclid Distance calculate\n",
        "print(\"Euclid distance between CHGNet and mattersim: \",np.linalg.norm(distance_CHGNet_vs_mattersim))\n",
        "print(\"\")\n"
      ]
    },
    {
      "cell_type": "markdown",
      "metadata": {},
      "source": [
        "# Cosine Similarity Calculation"
      ]
    },
    {
      "cell_type": "markdown",
      "metadata": {},
      "source": [
        "The similarity can take values between -1 and +1. Smaller angles between vectors produce larger cosine values, indicating greater cosine similarity. \n",
        "\n",
        "cos(angle)= dot product between vectors /(L2 norm of vector1)* (L2 norm of vector2)\n",
        "\n",
        "For example:\n",
        "- When two vectors have the same orientation, the angle between them is 0, and the cosine similarity is 1.\n",
        "- Perpendicular vectors have a 90-degree angle between them and a cosine similarity of 0.\n",
        "- Opposite vectors have an angle of 180 degrees between them and a cosine similarity of -1.\n",
        "\n",
        "Ref: https://www.learndatasci.com/glossary/cosine-similarity/"
      ]
    },
    {
      "cell_type": "code",
      "execution_count": 87,
      "metadata": {},
      "outputs": [
        {
          "name": "stdout",
          "output_type": "stream",
          "text": [
            "cos_sim_bm_vs_mattersim:  0.99773912340735\n",
            "cosine similarity bm_vs_CHGNet:  0.999191050239698\n",
            "cosine similarity mattersim_vs_CHGNet:  0.9986371915898893\n"
          ]
        }
      ],
      "source": [
        "import math\n",
        "\n",
        "def cos_sim(p, q):\n",
        "    return np.dot(p, q) / (np.linalg.norm(p) * np.linalg.norm(q))\n",
        "\n",
        "cos_sim_bm_vs_mattersim =cos_sim(average_bm, average_bm_mattersim)\n",
        "print(\"cos_sim_bm_vs_mattersim: \",cos_sim_bm_vs_mattersim)\n",
        "\n",
        "cos_sim_bm_vs_CHGNet =cos_sim(average_bm, average_bm_CHGNet)\n",
        "print(\"cosine similarity bm_vs_CHGNet: \",cos_sim_bm_vs_CHGNet)\n",
        "\n",
        "\n",
        "cos_sim_mattersim_vs_CHGNet =cos_sim(average_bm_mattersim, average_bm_CHGNet)\n",
        "print(\"cosine similarity mattersim_vs_CHGNet: \",cos_sim_mattersim_vs_CHGNet)"
      ]
    }
  ],
  "metadata": {
    "colab": {
      "provenance": []
    },
    "kernelspec": {
      "display_name": "base",
      "language": "python",
      "name": "python3"
    },
    "language_info": {
      "codemirror_mode": {
        "name": "ipython",
        "version": 3
      },
      "file_extension": ".py",
      "mimetype": "text/x-python",
      "name": "python",
      "nbconvert_exporter": "python",
      "pygments_lexer": "ipython3",
      "version": "3.10.9"
    }
  },
  "nbformat": 4,
  "nbformat_minor": 0
}
